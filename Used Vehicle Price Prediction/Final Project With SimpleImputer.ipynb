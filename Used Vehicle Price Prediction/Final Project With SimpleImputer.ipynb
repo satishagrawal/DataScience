{
 "cells": [
  {
   "cell_type": "markdown",
   "metadata": {},
   "source": [
    "# Final Project: Used Car Price Predictor\n",
    "### Author: Satish Agrawal, Sanjay Jaras\n",
    "### Bellevue University\n",
    "### DSC 630 - Predictive Analytics"
   ]
  },
  {
   "cell_type": "markdown",
   "metadata": {},
   "source": [
    "## Import Libraries"
   ]
  },
  {
   "cell_type": "code",
   "execution_count": 1,
   "metadata": {},
   "outputs": [],
   "source": [
    "import pandas as pd\n",
    "import numpy as np\n",
    "import matplotlib.pyplot as plt\n",
    "from matplotlib import __version__ as mpv\n",
    "import types\n",
    "import seaborn as sns\n",
    "import sortedmap\n",
    "import vaex as vx\n",
    "from tqdm import tqdm\n",
    "\n",
    "from sklearn import __version__ as sklv\n",
    "from sklearn.preprocessing import LabelEncoder\n",
    "from sklearn.linear_model import BayesianRidge\n",
    "from sklearn.pipeline import make_pipeline\n",
    "from sklearn.impute import SimpleImputer\n",
    "from sklearn.model_selection import cross_val_score\n",
    "from sklearn.experimental import enable_iterative_imputer\n",
    "from sklearn.impute import IterativeImputer\n",
    "from sklearn.ensemble import ExtraTreesRegressor\n",
    "from sklearn.linear_model import BayesianRidge\n",
    "from sklearn.tree import DecisionTreeRegressor\n",
    "from sklearn.neighbors import KNeighborsRegressor\n",
    "from sklearn.linear_model import SGDRegressor\n",
    "from sklearn.linear_model import Lasso\n",
    "from sklearn.model_selection import train_test_split\n",
    "from sklearn.preprocessing import OneHotEncoder\n",
    "from sklearn.base import BaseEstimator, TransformerMixin\n",
    "from sklearn.pipeline import Pipeline\n",
    "from sklearn.preprocessing import StandardScaler\n",
    "from sklearn.neighbors import LocalOutlierFactor\n",
    "from sklearn.pipeline import FeatureUnion\n",
    "from sklearn.linear_model import LinearRegression"
   ]
  },
  {
   "cell_type": "code",
   "execution_count": 2,
   "metadata": {},
   "outputs": [
    {
     "name": "stdout",
     "output_type": "stream",
     "text": [
      "Using version 1.2.0 of pandas\n",
      "Using version 1.19.2 of numpy\n",
      "Using version 3.3.2 of matplotlib\n",
      "Using version 0.11.1 of seaborn\n",
      "Using version 0.23.2 of sklearn\n",
      "Using version {'vaex': '3.0.0', 'vaex-core': '2.0.3', 'vaex-viz': '0.4.0', 'vaex-hdf5': '0.6.0', 'vaex-server': '0.3.1', 'vaex-astro': '0.7.0', 'vaex-jupyter': '0.5.2', 'vaex-ml': '0.9.0', 'vaex-arrow': '0.5.1'} of pandas\n"
     ]
    }
   ],
   "source": [
    "print('Using version %s of pandas' % pd.__version__)\n",
    "print('Using version %s of numpy' % np.__version__)\n",
    "print('Using version %s of matplotlib' % mpv)\n",
    "print('Using version %s of seaborn' % sns.__version__)\n",
    "print('Using version %s of sklearn' % sklv)\n",
    "\n",
    "#print('Using version %s of sortedmap' % sortedmap.__version__)"
   ]
  },
  {
   "cell_type": "markdown",
   "metadata": {},
   "source": [
    "## Configurations"
   ]
  },
  {
   "cell_type": "code",
   "execution_count": 3,
   "metadata": {},
   "outputs": [],
   "source": [
    "%matplotlib inline\n",
    "plt.style.use(\"seaborn-darkgrid\")\n",
    "random_state = 17\n",
    "np.random.seed(random_state)"
   ]
  },
  {
   "cell_type": "markdown",
   "metadata": {},
   "source": [
    "## Load Data\n",
    "Data downloaded from https://www.kaggle.com/austinreese/craigslist-carstrucks-data"
   ]
  },
  {
   "cell_type": "code",
   "execution_count": 4,
   "metadata": {},
   "outputs": [],
   "source": [
    "org_df = pd.read_csv(\"vehicles.csv\", index_col=[0], converters={\"cylinders\":str})"
   ]
  },
  {
   "cell_type": "code",
   "execution_count": 5,
   "metadata": {},
   "outputs": [
    {
     "data": {
      "text/plain": [
       "(458213, 25)"
      ]
     },
     "execution_count": 5,
     "metadata": {},
     "output_type": "execute_result"
    }
   ],
   "source": [
    "org_df.shape "
   ]
  },
  {
   "cell_type": "code",
   "execution_count": 6,
   "metadata": {},
   "outputs": [
    {
     "name": "stdout",
     "output_type": "stream",
     "text": [
      "<class 'pandas.core.frame.DataFrame'>\n",
      "Int64Index: 458213 entries, 0 to 458212\n",
      "Data columns (total 25 columns):\n",
      " #   Column        Non-Null Count   Dtype  \n",
      "---  ------        --------------   -----  \n",
      " 0   id            458213 non-null  int64  \n",
      " 1   url           458213 non-null  object \n",
      " 2   region        458213 non-null  object \n",
      " 3   region_url    458213 non-null  object \n",
      " 4   price         458213 non-null  int64  \n",
      " 5   year          457163 non-null  float64\n",
      " 6   manufacturer  439993 non-null  object \n",
      " 7   model         453367 non-null  object \n",
      " 8   condition     265273 non-null  object \n",
      " 9   cylinders     458213 non-null  object \n",
      " 10  fuel          454976 non-null  object \n",
      " 11  odometer      402910 non-null  float64\n",
      " 12  title_status  455636 non-null  object \n",
      " 13  transmission  455771 non-null  object \n",
      " 14  VIN           270664 non-null  object \n",
      " 15  drive         324025 non-null  object \n",
      " 16  size          136865 non-null  object \n",
      " 17  type          345475 non-null  object \n",
      " 18  paint_color   317370 non-null  object \n",
      " 19  image_url     458185 non-null  object \n",
      " 20  description   458143 non-null  object \n",
      " 21  state         458213 non-null  object \n",
      " 22  lat           450765 non-null  float64\n",
      " 23  long          450765 non-null  float64\n",
      " 24  posting_date  458185 non-null  object \n",
      "dtypes: float64(4), int64(2), object(19)\n",
      "memory usage: 90.9+ MB\n"
     ]
    }
   ],
   "source": [
    "org_df.info(5)"
   ]
  },
  {
   "cell_type": "markdown",
   "metadata": {},
   "source": [
    "### Show Original Data types"
   ]
  },
  {
   "cell_type": "code",
   "execution_count": 7,
   "metadata": {},
   "outputs": [
    {
     "data": {
      "text/plain": [
       "id                int64\n",
       "url              object\n",
       "region           object\n",
       "region_url       object\n",
       "price             int64\n",
       "year            float64\n",
       "manufacturer     object\n",
       "model            object\n",
       "condition        object\n",
       "cylinders        object\n",
       "fuel             object\n",
       "odometer        float64\n",
       "title_status     object\n",
       "transmission     object\n",
       "VIN              object\n",
       "drive            object\n",
       "size             object\n",
       "type             object\n",
       "paint_color      object\n",
       "image_url        object\n",
       "description      object\n",
       "state            object\n",
       "lat             float64\n",
       "long            float64\n",
       "posting_date     object\n",
       "dtype: object"
      ]
     },
     "execution_count": 7,
     "metadata": {},
     "output_type": "execute_result"
    }
   ],
   "source": [
    "org_df.dtypes"
   ]
  },
  {
   "cell_type": "markdown",
   "metadata": {},
   "source": [
    "### Create list of numeric and categorical columns"
   ]
  },
  {
   "cell_type": "code",
   "execution_count": 8,
   "metadata": {},
   "outputs": [],
   "source": [
    "num_attr = [\"year\", \"odometer\", \"lat\", \"long\"]\n",
    "cat_attr = [\"region\", \"manufacturer\", \"model\", \"condition\", \"cylinders\", \"fuel\", \"title_status\", \"transmission\", \"drive\", \"size\", \"paint_color\", \"state\", \"type\"]"
   ]
  },
  {
   "cell_type": "markdown",
   "metadata": {},
   "source": [
    "### Create Categories list to be used by OneHotEncoder"
   ]
  },
  {
   "cell_type": "code",
   "execution_count": 9,
   "metadata": {},
   "outputs": [],
   "source": [
    "### Create Categories list to be used by OneHotEncoder\n",
    "\n",
    "categories_map = {}\n",
    "for attr in cat_attr:\n",
    "    categories_map[attr] = org_df[attr].dropna().unique()\n",
    "    categories_map[attr].sort()"
   ]
  },
  {
   "cell_type": "code",
   "execution_count": 10,
   "metadata": {},
   "outputs": [
    {
     "data": {
      "text/plain": [
       "array(['SF bay area', 'abilene', 'akron / canton', 'albany',\n",
       "       'albuquerque', 'altoona-johnstown', 'amarillo', 'ames',\n",
       "       'anchorage / mat-su', 'ann arbor'], dtype=object)"
      ]
     },
     "execution_count": 10,
     "metadata": {},
     "output_type": "execute_result"
    }
   ],
   "source": [
    "categories_map[\"region\"][:10]"
   ]
  },
  {
   "cell_type": "markdown",
   "metadata": {},
   "source": [
    "### Split Data in training Testing set"
   ]
  },
  {
   "cell_type": "code",
   "execution_count": 11,
   "metadata": {},
   "outputs": [],
   "source": [
    "train_set, test_set = train_test_split(org_df, test_size=0.2, random_state=random_state)"
   ]
  },
  {
   "cell_type": "code",
   "execution_count": 12,
   "metadata": {},
   "outputs": [],
   "source": [
    "train_set_copy = train_set.copy()"
   ]
  },
  {
   "cell_type": "markdown",
   "metadata": {},
   "source": [
    "### Let's drop column that we will not be using"
   ]
  },
  {
   "cell_type": "code",
   "execution_count": 13,
   "metadata": {},
   "outputs": [],
   "source": [
    "# dropping columns which are not directly correlated to the target variable\n",
    "train_set = train_set.drop(columns=['url', 'id','image_url', 'description', 'region_url', 'VIN'])"
   ]
  },
  {
   "cell_type": "code",
   "execution_count": 14,
   "metadata": {},
   "outputs": [
    {
     "data": {
      "text/html": [
       "<div>\n",
       "<style scoped>\n",
       "    .dataframe tbody tr th:only-of-type {\n",
       "        vertical-align: middle;\n",
       "    }\n",
       "\n",
       "    .dataframe tbody tr th {\n",
       "        vertical-align: top;\n",
       "    }\n",
       "\n",
       "    .dataframe thead th {\n",
       "        text-align: right;\n",
       "    }\n",
       "</style>\n",
       "<table border=\"1\" class=\"dataframe\">\n",
       "  <thead>\n",
       "    <tr style=\"text-align: right;\">\n",
       "      <th></th>\n",
       "      <th>region</th>\n",
       "      <th>price</th>\n",
       "      <th>year</th>\n",
       "      <th>manufacturer</th>\n",
       "      <th>model</th>\n",
       "      <th>condition</th>\n",
       "      <th>cylinders</th>\n",
       "      <th>fuel</th>\n",
       "      <th>odometer</th>\n",
       "      <th>title_status</th>\n",
       "      <th>transmission</th>\n",
       "      <th>drive</th>\n",
       "      <th>size</th>\n",
       "      <th>type</th>\n",
       "      <th>paint_color</th>\n",
       "      <th>state</th>\n",
       "      <th>lat</th>\n",
       "      <th>long</th>\n",
       "      <th>posting_date</th>\n",
       "    </tr>\n",
       "  </thead>\n",
       "  <tbody>\n",
       "    <tr>\n",
       "      <th>341103</th>\n",
       "      <td>pittsburgh</td>\n",
       "      <td>5985</td>\n",
       "      <td>2006.0</td>\n",
       "      <td>hyundai</td>\n",
       "      <td>azera</td>\n",
       "      <td>NaN</td>\n",
       "      <td></td>\n",
       "      <td>gas</td>\n",
       "      <td>NaN</td>\n",
       "      <td>clean</td>\n",
       "      <td>automatic</td>\n",
       "      <td>NaN</td>\n",
       "      <td>NaN</td>\n",
       "      <td>NaN</td>\n",
       "      <td>NaN</td>\n",
       "      <td>pa</td>\n",
       "      <td>40.394280</td>\n",
       "      <td>-79.688988</td>\n",
       "      <td>2020-11-28T14:28:21-0500</td>\n",
       "    </tr>\n",
       "    <tr>\n",
       "      <th>295246</th>\n",
       "      <td>cincinnati</td>\n",
       "      <td>2000</td>\n",
       "      <td>1989.0</td>\n",
       "      <td>bmw</td>\n",
       "      <td>325i</td>\n",
       "      <td>NaN</td>\n",
       "      <td>6 cylinders</td>\n",
       "      <td>gas</td>\n",
       "      <td>207463.0</td>\n",
       "      <td>clean</td>\n",
       "      <td>automatic</td>\n",
       "      <td>NaN</td>\n",
       "      <td>NaN</td>\n",
       "      <td>coupe</td>\n",
       "      <td>black</td>\n",
       "      <td>oh</td>\n",
       "      <td>39.283900</td>\n",
       "      <td>-84.474400</td>\n",
       "      <td>2020-11-27T10:00:53-0500</td>\n",
       "    </tr>\n",
       "    <tr>\n",
       "      <th>428050</th>\n",
       "      <td>kenosha-racine</td>\n",
       "      <td>3999</td>\n",
       "      <td>2003.0</td>\n",
       "      <td>honda</td>\n",
       "      <td>accord</td>\n",
       "      <td>like new</td>\n",
       "      <td>4 cylinders</td>\n",
       "      <td>gas</td>\n",
       "      <td>134578.0</td>\n",
       "      <td>clean</td>\n",
       "      <td>automatic</td>\n",
       "      <td>fwd</td>\n",
       "      <td>NaN</td>\n",
       "      <td>sedan</td>\n",
       "      <td>NaN</td>\n",
       "      <td>wi</td>\n",
       "      <td>43.118800</td>\n",
       "      <td>-87.947800</td>\n",
       "      <td>2020-11-28T11:17:04-0600</td>\n",
       "    </tr>\n",
       "    <tr>\n",
       "      <th>31565</th>\n",
       "      <td>inland empire</td>\n",
       "      <td>229</td>\n",
       "      <td>2011.0</td>\n",
       "      <td>ford</td>\n",
       "      <td>ranger xlt</td>\n",
       "      <td>NaN</td>\n",
       "      <td></td>\n",
       "      <td>gas</td>\n",
       "      <td>80506.0</td>\n",
       "      <td>clean</td>\n",
       "      <td>automatic</td>\n",
       "      <td>rwd</td>\n",
       "      <td>NaN</td>\n",
       "      <td>pickup</td>\n",
       "      <td>blue</td>\n",
       "      <td>ca</td>\n",
       "      <td>34.023568</td>\n",
       "      <td>-117.111767</td>\n",
       "      <td>2020-11-29T09:17:01-0800</td>\n",
       "    </tr>\n",
       "    <tr>\n",
       "      <th>18887</th>\n",
       "      <td>fayetteville</td>\n",
       "      <td>47995</td>\n",
       "      <td>2017.0</td>\n",
       "      <td>gmc</td>\n",
       "      <td>yukon xl denali 4x4 4dr suv</td>\n",
       "      <td>good</td>\n",
       "      <td>8 cylinders</td>\n",
       "      <td>gas</td>\n",
       "      <td>51031.0</td>\n",
       "      <td>clean</td>\n",
       "      <td>automatic</td>\n",
       "      <td>NaN</td>\n",
       "      <td>NaN</td>\n",
       "      <td>other</td>\n",
       "      <td>white</td>\n",
       "      <td>ar</td>\n",
       "      <td>36.203482</td>\n",
       "      <td>-94.138862</td>\n",
       "      <td>2020-11-06T11:47:42-0600</td>\n",
       "    </tr>\n",
       "  </tbody>\n",
       "</table>\n",
       "</div>"
      ],
      "text/plain": [
       "                region  price    year manufacturer  \\\n",
       "341103      pittsburgh   5985  2006.0      hyundai   \n",
       "295246      cincinnati   2000  1989.0          bmw   \n",
       "428050  kenosha-racine   3999  2003.0        honda   \n",
       "31565    inland empire    229  2011.0         ford   \n",
       "18887     fayetteville  47995  2017.0          gmc   \n",
       "\n",
       "                              model condition    cylinders fuel  odometer  \\\n",
       "341103                        azera       NaN               gas       NaN   \n",
       "295246                         325i       NaN  6 cylinders  gas  207463.0   \n",
       "428050                       accord  like new  4 cylinders  gas  134578.0   \n",
       "31565                    ranger xlt       NaN               gas   80506.0   \n",
       "18887   yukon xl denali 4x4 4dr suv      good  8 cylinders  gas   51031.0   \n",
       "\n",
       "       title_status transmission drive size    type paint_color state  \\\n",
       "341103        clean    automatic   NaN  NaN     NaN         NaN    pa   \n",
       "295246        clean    automatic   NaN  NaN   coupe       black    oh   \n",
       "428050        clean    automatic   fwd  NaN   sedan         NaN    wi   \n",
       "31565         clean    automatic   rwd  NaN  pickup        blue    ca   \n",
       "18887         clean    automatic   NaN  NaN   other       white    ar   \n",
       "\n",
       "              lat        long              posting_date  \n",
       "341103  40.394280  -79.688988  2020-11-28T14:28:21-0500  \n",
       "295246  39.283900  -84.474400  2020-11-27T10:00:53-0500  \n",
       "428050  43.118800  -87.947800  2020-11-28T11:17:04-0600  \n",
       "31565   34.023568 -117.111767  2020-11-29T09:17:01-0800  \n",
       "18887   36.203482  -94.138862  2020-11-06T11:47:42-0600  "
      ]
     },
     "execution_count": 14,
     "metadata": {},
     "output_type": "execute_result"
    }
   ],
   "source": [
    "train_set.head()"
   ]
  },
  {
   "cell_type": "markdown",
   "metadata": {},
   "source": [
    "### Create Class for outlier extraction to be used in pipelin"
   ]
  },
  {
   "cell_type": "code",
   "execution_count": 15,
   "metadata": {},
   "outputs": [],
   "source": [
    "class OutlierExtraction(BaseEstimator, TransformerMixin):\n",
    "    def __init__(self, attrmap ):\n",
    "        self.attrmap = attrmap\n",
    "\n",
    "    def transform(self, X):\n",
    "        for attr in self.attrmap:\n",
    "            val = self.attrmap[attr]\n",
    "            min, max = X[attr].quantile([val[0], val[1]])\n",
    "            X = X[(X[attr]>=min) & (X[attr]<=max)]\n",
    "        return X\n",
    "\n",
    "    def fit(self, X, y = None):\n",
    "        return self"
   ]
  },
  {
   "cell_type": "markdown",
   "metadata": {},
   "source": [
    "### Check distribution and outlier for years"
   ]
  },
  {
   "cell_type": "code",
   "execution_count": 16,
   "metadata": {},
   "outputs": [
    {
     "data": {
      "text/plain": [
       "count    365708.000000\n",
       "mean       2010.745543\n",
       "std           8.875581\n",
       "min        1900.000000\n",
       "25%        2008.000000\n",
       "50%        2013.000000\n",
       "75%        2016.000000\n",
       "max        2021.000000\n",
       "Name: year, dtype: float64"
      ]
     },
     "execution_count": 16,
     "metadata": {},
     "output_type": "execute_result"
    }
   ],
   "source": [
    "train_set.year.describe()"
   ]
  },
  {
   "cell_type": "code",
   "execution_count": 17,
   "metadata": {},
   "outputs": [
    {
     "name": "stderr",
     "output_type": "stream",
     "text": [
      "INFO:MainThread:numexpr.utils:Note: NumExpr detected 16 cores but \"NUMEXPR_MAX_THREADS\" not set, so enforcing safe limit of 8.\n",
      "INFO:MainThread:numexpr.utils:NumExpr defaulting to 8 threads.\n"
     ]
    },
    {
     "data": {
      "image/png": "[encoded data removed]",
      "text/plain": [
       "<Figure size 1152x576 with 1 Axes>"
      ]
     },
     "metadata": {},
     "output_type": "display_data"
    }
   ],
   "source": [
    "sns.displot(x=train_set.year, kde=True, height=8, aspect=2 )\n",
    "plt.show()"
   ]
  },
  {
   "cell_type": "markdown",
   "metadata": {},
   "source": [
    "### Drop outlier year records "
   ]
  },
  {
   "cell_type": "code",
   "execution_count": 18,
   "metadata": {},
   "outputs": [],
   "source": [
    "est = OutlierExtraction({\"year\":[0.10, 0.999]})\n",
    "train_set = est.fit_transform(train_set)"
   ]
  },
  {
   "cell_type": "markdown",
   "metadata": {},
   "source": [
    "### Year distribution after outlier removal"
   ]
  },
  {
   "cell_type": "code",
   "execution_count": 19,
   "metadata": {},
   "outputs": [
    {
     "data": {
      "image/png": "[encoded data removed]",
      "text/plain": [
       "<Figure size 1152x576 with 1 Axes>"
      ]
     },
     "metadata": {},
     "output_type": "display_data"
    }
   ],
   "source": [
    "sns.displot(x=train_set.year, kde=True, height=8, aspect=2 )\n",
    "plt.show()"
   ]
  },
  {
   "cell_type": "markdown",
   "metadata": {},
   "source": [
    "### Check distribution and outlier for odometer"
   ]
  },
  {
   "cell_type": "code",
   "execution_count": 20,
   "metadata": {},
   "outputs": [
    {
     "data": {
      "text/plain": [
       "count    2.959580e+05\n",
       "mean     9.888558e+04\n",
       "std      3.764925e+06\n",
       "min      0.000000e+00\n",
       "25%      3.945300e+04\n",
       "50%      8.423900e+04\n",
       "75%      1.295708e+05\n",
       "max      2.043756e+09\n",
       "Name: odometer, dtype: float64"
      ]
     },
     "execution_count": 20,
     "metadata": {},
     "output_type": "execute_result"
    }
   ],
   "source": [
    "train_set.odometer.describe()"
   ]
  },
  {
   "cell_type": "code",
   "execution_count": 21,
   "metadata": {},
   "outputs": [
    {
     "data": {
      "image/png": "[encoded data removed]",
      "text/plain": [
       "<Figure size 1152x576 with 1 Axes>"
      ]
     },
     "metadata": {},
     "output_type": "display_data"
    }
   ],
   "source": [
    "sns.displot(x=train_set.odometer, kde=True, rug=True, height=8, bins=50, aspect=2 )\n",
    "plt.show()"
   ]
  },
  {
   "cell_type": "markdown",
   "metadata": {},
   "source": [
    "### Drop outlier odometer records "
   ]
  },
  {
   "cell_type": "code",
   "execution_count": 22,
   "metadata": {},
   "outputs": [],
   "source": [
    "est = OutlierExtraction({\"odometer\":[0, 0.90]})\n",
    "train_set = est.fit_transform(train_set)"
   ]
  },
  {
   "cell_type": "markdown",
   "metadata": {},
   "source": [
    "### Odometer distribution after outlier removal"
   ]
  },
  {
   "cell_type": "code",
   "execution_count": 23,
   "metadata": {},
   "outputs": [
    {
     "data": {
      "image/png": "[encoded data removed]",
      "text/plain": [
       "<Figure size 1152x576 with 1 Axes>"
      ]
     },
     "metadata": {},
     "output_type": "display_data"
    }
   ],
   "source": [
    "sns.displot(x=train_set.odometer, kde=True, rug=True, height=8, bins=50, aspect=2 )\n",
    "plt.show()"
   ]
  },
  {
   "cell_type": "markdown",
   "metadata": {},
   "source": [
    "### Check distribution and outlier for price"
   ]
  },
  {
   "cell_type": "code",
   "execution_count": 24,
   "metadata": {},
   "outputs": [
    {
     "data": {
      "text/plain": [
       "count    2.663630e+05\n",
       "mean     3.143320e+04\n",
       "std      7.011650e+06\n",
       "min      0.000000e+00\n",
       "25%      6.700000e+03\n",
       "50%      1.391800e+04\n",
       "75%      2.471400e+04\n",
       "max      3.615215e+09\n",
       "Name: price, dtype: float64"
      ]
     },
     "execution_count": 24,
     "metadata": {},
     "output_type": "execute_result"
    }
   ],
   "source": [
    "train_set.price.describe()"
   ]
  },
  {
   "cell_type": "code",
   "execution_count": 25,
   "metadata": {},
   "outputs": [
    {
     "data": {
      "image/png": "[encoded data removed]",
      "text/plain": [
       "<Figure size 1152x576 with 1 Axes>"
      ]
     },
     "metadata": {},
     "output_type": "display_data"
    }
   ],
   "source": [
    "sns.displot(x=train_set.price, kde=True, rug=True, height=8, bins=50, aspect=2 )\n",
    "plt.show()"
   ]
  },
  {
   "cell_type": "markdown",
   "metadata": {},
   "source": [
    "### Drop outlier price records "
   ]
  },
  {
   "cell_type": "code",
   "execution_count": 26,
   "metadata": {},
   "outputs": [],
   "source": [
    "est = OutlierExtraction({\"price\":[0.15, 0.95]})\n",
    "train_set = est.fit_transform(train_set)"
   ]
  },
  {
   "cell_type": "markdown",
   "metadata": {},
   "source": [
    "### Year distribution after outlier removal"
   ]
  },
  {
   "cell_type": "code",
   "execution_count": 27,
   "metadata": {},
   "outputs": [
    {
     "data": {
      "image/png": "[encoded data removed]",
      "text/plain": [
       "<Figure size 1152x576 with 1 Axes>"
      ]
     },
     "metadata": {},
     "output_type": "display_data"
    }
   ],
   "source": [
    "sns.displot(x=train_set.price, kde=True, rug=True, height=8, bins=50, aspect=2 )\n",
    "plt.show()"
   ]
  },
  {
   "cell_type": "markdown",
   "metadata": {},
   "source": [
    "### Find Missing Values"
   ]
  },
  {
   "cell_type": "markdown",
   "metadata": {},
   "source": [
    "### Some columns has blank values, let's replace them with nan"
   ]
  },
  {
   "cell_type": "code",
   "execution_count": 28,
   "metadata": {},
   "outputs": [
    {
     "data": {
      "text/plain": [
       "region               0\n",
       "price                0\n",
       "year                 0\n",
       "manufacturer      4244\n",
       "model              845\n",
       "condition        81675\n",
       "cylinders            0\n",
       "fuel              1591\n",
       "odometer             0\n",
       "title_status       995\n",
       "transmission       938\n",
       "drive            51914\n",
       "size            152415\n",
       "type             35571\n",
       "paint_color      49869\n",
       "state                0\n",
       "lat               1658\n",
       "long              1658\n",
       "posting_date         0\n",
       "dtype: int64"
      ]
     },
     "execution_count": 28,
     "metadata": {},
     "output_type": "execute_result"
    }
   ],
   "source": [
    "train_set.isnull().sum()"
   ]
  },
  {
   "cell_type": "code",
   "execution_count": 29,
   "metadata": {},
   "outputs": [
    {
     "data": {
      "text/plain": [
       "72859"
      ]
     },
     "execution_count": 29,
     "metadata": {},
     "output_type": "execute_result"
    }
   ],
   "source": [
    "test = train_set.cylinders[train_set.cylinders == \"\"]\n",
    "test.count()"
   ]
  },
  {
   "cell_type": "code",
   "execution_count": 30,
   "metadata": {},
   "outputs": [],
   "source": [
    "class ReplaceBlankValues(BaseEstimator, TransformerMixin):\n",
    "    def __init__(self):\n",
    "        pass\n",
    "\n",
    "    def transform(self, X):\n",
    "        df = pd.DataFrame()\n",
    "        for attr in range(X.shape[1]): \n",
    "            col = pd.Series(X[:, attr])\n",
    "            col[col == \"\"] = np.NaN\n",
    "            df[attr] = col.ravel()\n",
    "        return df.to_numpy()\n",
    "\n",
    "    def fit(self, X, y = None):\n",
    "        return self"
   ]
  },
  {
   "cell_type": "code",
   "execution_count": 31,
   "metadata": {},
   "outputs": [],
   "source": [
    "transfomer = ReplaceBlankValues()\n",
    "df_temp = pd.DataFrame(transfomer.fit_transform(train_set.to_numpy()))\n",
    "df_temp.columns = train_set.columns\n",
    "train_set = df_temp"
   ]
  },
  {
   "cell_type": "code",
   "execution_count": 32,
   "metadata": {},
   "outputs": [
    {
     "data": {
      "text/plain": [
       "region               0\n",
       "price                0\n",
       "year                 0\n",
       "manufacturer      4244\n",
       "model              845\n",
       "condition        81675\n",
       "cylinders        72859\n",
       "fuel              1591\n",
       "odometer             0\n",
       "title_status       995\n",
       "transmission       938\n",
       "drive            51914\n",
       "size            152415\n",
       "type             35571\n",
       "paint_color      49869\n",
       "state                0\n",
       "lat               1658\n",
       "long              1658\n",
       "posting_date         0\n",
       "dtype: int64"
      ]
     },
     "execution_count": 32,
     "metadata": {},
     "output_type": "execute_result"
    }
   ],
   "source": [
    "train_set.isnull().sum()"
   ]
  },
  {
   "cell_type": "markdown",
   "metadata": {},
   "source": [
    "### Heatmap with null values"
   ]
  },
  {
   "cell_type": "code",
   "execution_count": 33,
   "metadata": {},
   "outputs": [
    {
     "data": {
      "text/plain": [
       "<AxesSubplot:>"
      ]
     },
     "execution_count": 33,
     "metadata": {},
     "output_type": "execute_result"
    },
    {
     "data": {
      "image/png": "[encoded data removed]",
      "text/plain": [
       "<Figure size 1584x1080 with 2 Axes>"
      ]
     },
     "metadata": {},
     "output_type": "display_data"
    }
   ],
   "source": [
    "fig, ax =plt.subplots(1,figsize=(22, 15))\n",
    "sns.heatmap(train_set.isnull(), cmap=\"Dark2\")"
   ]
  },
  {
   "cell_type": "markdown",
   "metadata": {},
   "source": [
    "### Bar to find columns with missing values more than 50%"
   ]
  },
  {
   "cell_type": "code",
   "execution_count": 34,
   "metadata": {},
   "outputs": [
    {
     "data": {
      "image/png": "[encoded data removed]",
      "text/plain": [
       "<Figure size 1584x1080 with 1 Axes>"
      ]
     },
     "metadata": {},
     "output_type": "display_data"
    }
   ],
   "source": [
    "train_set.isnull().sum()\n",
    "total = [len(train_set.index) for i in range(train_set.shape[1]) ]\n",
    "\n",
    "fig, ax =plt.subplots(1,figsize=(22, 15))\n",
    "g=sns.barplot(x=train_set.columns, y=train_set.isnull().sum())\n",
    "ax1= g.axes\n",
    "ax1.axhline(len(train_set.index)/2, ls='--')\n",
    "ax1.text(0.5,len(train_set.index)/2, \"50% Records\")\n",
    "plt.ylim(0, len(train_set.index))\n",
    "plt.show()"
   ]
  },
  {
   "cell_type": "markdown",
   "metadata": {},
   "source": [
    "### We can drop column size as it is having more than 50% missing values"
   ]
  },
  {
   "cell_type": "code",
   "execution_count": 35,
   "metadata": {},
   "outputs": [],
   "source": [
    "train_set.drop(columns=\"size\", inplace=True)"
   ]
  },
  {
   "cell_type": "code",
   "execution_count": 36,
   "metadata": {},
   "outputs": [
    {
     "data": {
      "text/html": [
       "<div>\n",
       "<style scoped>\n",
       "    .dataframe tbody tr th:only-of-type {\n",
       "        vertical-align: middle;\n",
       "    }\n",
       "\n",
       "    .dataframe tbody tr th {\n",
       "        vertical-align: top;\n",
       "    }\n",
       "\n",
       "    .dataframe thead th {\n",
       "        text-align: right;\n",
       "    }\n",
       "</style>\n",
       "<table border=\"1\" class=\"dataframe\">\n",
       "  <thead>\n",
       "    <tr style=\"text-align: right;\">\n",
       "      <th></th>\n",
       "      <th>region</th>\n",
       "      <th>price</th>\n",
       "      <th>year</th>\n",
       "      <th>manufacturer</th>\n",
       "      <th>model</th>\n",
       "      <th>condition</th>\n",
       "      <th>cylinders</th>\n",
       "      <th>fuel</th>\n",
       "      <th>odometer</th>\n",
       "      <th>title_status</th>\n",
       "      <th>transmission</th>\n",
       "      <th>drive</th>\n",
       "      <th>type</th>\n",
       "      <th>paint_color</th>\n",
       "      <th>state</th>\n",
       "      <th>lat</th>\n",
       "      <th>long</th>\n",
       "      <th>posting_date</th>\n",
       "    </tr>\n",
       "  </thead>\n",
       "  <tbody>\n",
       "    <tr>\n",
       "      <th>0</th>\n",
       "      <td>kenosha-racine</td>\n",
       "      <td>3999</td>\n",
       "      <td>2003.0</td>\n",
       "      <td>honda</td>\n",
       "      <td>accord</td>\n",
       "      <td>like new</td>\n",
       "      <td>4 cylinders</td>\n",
       "      <td>gas</td>\n",
       "      <td>134578.0</td>\n",
       "      <td>clean</td>\n",
       "      <td>automatic</td>\n",
       "      <td>fwd</td>\n",
       "      <td>sedan</td>\n",
       "      <td>NaN</td>\n",
       "      <td>wi</td>\n",
       "      <td>43.118800</td>\n",
       "      <td>-87.947800</td>\n",
       "      <td>2020-11-28T11:17:04-0600</td>\n",
       "    </tr>\n",
       "    <tr>\n",
       "      <th>1</th>\n",
       "      <td>cape cod / islands</td>\n",
       "      <td>6499</td>\n",
       "      <td>2011.0</td>\n",
       "      <td>nissan</td>\n",
       "      <td>pathfinder</td>\n",
       "      <td>good</td>\n",
       "      <td>6 cylinders</td>\n",
       "      <td>gas</td>\n",
       "      <td>156300.0</td>\n",
       "      <td>clean</td>\n",
       "      <td>automatic</td>\n",
       "      <td>4wd</td>\n",
       "      <td>NaN</td>\n",
       "      <td>NaN</td>\n",
       "      <td>ma</td>\n",
       "      <td>41.673575</td>\n",
       "      <td>-70.266194</td>\n",
       "      <td>2020-11-13T12:20:33-0500</td>\n",
       "    </tr>\n",
       "    <tr>\n",
       "      <th>2</th>\n",
       "      <td>el paso</td>\n",
       "      <td>5600</td>\n",
       "      <td>2006.0</td>\n",
       "      <td>nissan</td>\n",
       "      <td>xterra</td>\n",
       "      <td>good</td>\n",
       "      <td>6 cylinders</td>\n",
       "      <td>gas</td>\n",
       "      <td>119000.0</td>\n",
       "      <td>clean</td>\n",
       "      <td>automatic</td>\n",
       "      <td>rwd</td>\n",
       "      <td>SUV</td>\n",
       "      <td>grey</td>\n",
       "      <td>tx</td>\n",
       "      <td>31.817096</td>\n",
       "      <td>-106.561892</td>\n",
       "      <td>2020-11-30T15:30:51-0700</td>\n",
       "    </tr>\n",
       "    <tr>\n",
       "      <th>3</th>\n",
       "      <td>ventura county</td>\n",
       "      <td>5995</td>\n",
       "      <td>2014.0</td>\n",
       "      <td>nissan</td>\n",
       "      <td>versa hatchback</td>\n",
       "      <td>excellent</td>\n",
       "      <td>4 cylinders</td>\n",
       "      <td>gas</td>\n",
       "      <td>84000.0</td>\n",
       "      <td>clean</td>\n",
       "      <td>automatic</td>\n",
       "      <td>NaN</td>\n",
       "      <td>NaN</td>\n",
       "      <td>silver</td>\n",
       "      <td>ca</td>\n",
       "      <td>34.226200</td>\n",
       "      <td>-118.447000</td>\n",
       "      <td>2020-11-07T09:23:12-0800</td>\n",
       "    </tr>\n",
       "    <tr>\n",
       "      <th>4</th>\n",
       "      <td>central michigan</td>\n",
       "      <td>11995</td>\n",
       "      <td>2007.0</td>\n",
       "      <td>chevrolet</td>\n",
       "      <td>avalanche</td>\n",
       "      <td>NaN</td>\n",
       "      <td>NaN</td>\n",
       "      <td>gas</td>\n",
       "      <td>114614.0</td>\n",
       "      <td>clean</td>\n",
       "      <td>automatic</td>\n",
       "      <td>NaN</td>\n",
       "      <td>NaN</td>\n",
       "      <td>NaN</td>\n",
       "      <td>mi</td>\n",
       "      <td>43.182400</td>\n",
       "      <td>-84.112200</td>\n",
       "      <td>2020-11-27T11:24:03-0500</td>\n",
       "    </tr>\n",
       "  </tbody>\n",
       "</table>\n",
       "</div>"
      ],
      "text/plain": [
       "               region  price    year manufacturer            model  condition  \\\n",
       "0      kenosha-racine   3999  2003.0        honda           accord   like new   \n",
       "1  cape cod / islands   6499  2011.0       nissan       pathfinder       good   \n",
       "2             el paso   5600  2006.0       nissan           xterra       good   \n",
       "3      ventura county   5995  2014.0       nissan  versa hatchback  excellent   \n",
       "4    central michigan  11995  2007.0    chevrolet        avalanche        NaN   \n",
       "\n",
       "     cylinders fuel  odometer title_status transmission drive   type  \\\n",
       "0  4 cylinders  gas  134578.0        clean    automatic   fwd  sedan   \n",
       "1  6 cylinders  gas  156300.0        clean    automatic   4wd    NaN   \n",
       "2  6 cylinders  gas  119000.0        clean    automatic   rwd    SUV   \n",
       "3  4 cylinders  gas   84000.0        clean    automatic   NaN    NaN   \n",
       "4          NaN  gas  114614.0        clean    automatic   NaN    NaN   \n",
       "\n",
       "  paint_color state        lat        long              posting_date  \n",
       "0         NaN    wi  43.118800  -87.947800  2020-11-28T11:17:04-0600  \n",
       "1         NaN    ma  41.673575  -70.266194  2020-11-13T12:20:33-0500  \n",
       "2        grey    tx  31.817096 -106.561892  2020-11-30T15:30:51-0700  \n",
       "3      silver    ca  34.226200 -118.447000  2020-11-07T09:23:12-0800  \n",
       "4         NaN    mi  43.182400  -84.112200  2020-11-27T11:24:03-0500  "
      ]
     },
     "execution_count": 36,
     "metadata": {},
     "output_type": "execute_result"
    }
   ],
   "source": [
    "train_set.head()"
   ]
  },
  {
   "cell_type": "markdown",
   "metadata": {},
   "source": [
    "### Let's use Simple Imputer with most_frequent strategy to fill missing values\n",
    "We are using Simple Imputer with most frequent as we have categorical columns into data, other startegy will impute new values(categories)"
   ]
  },
  {
   "cell_type": "markdown",
   "metadata": {},
   "source": [
    "### Create a class to fill missing values as Simple Imputer with most_frequent is too slow"
   ]
  },
  {
   "cell_type": "code",
   "execution_count": 37,
   "metadata": {},
   "outputs": [],
   "source": [
    "class FillMissingValueWithMostFrequent(BaseEstimator, TransformerMixin):\n",
    "    def __init__(self):\n",
    "        pass\n",
    "\n",
    "    def transform(self, X):\n",
    "        df = pd.DataFrame()\n",
    "        for attr in range(X.shape[1]): \n",
    "            col = pd.Series(X[:, attr])\n",
    "            col.fillna(value=col.mode()[0], inplace=True)\n",
    "            df[attr] = col.ravel()\n",
    "        return df.to_numpy()\n",
    "\n",
    "    def fit(self, X, y = None):\n",
    "        return self\n",
    "    "
   ]
  },
  {
   "cell_type": "code",
   "execution_count": 38,
   "metadata": {},
   "outputs": [],
   "source": [
    "#selected_est = make_pipeline(SimpleImputer(missing_values=np.NaN, strategy=\"most_frequent\"))\n",
    "transfomer = FillMissingValueWithMostFrequent()\n",
    "df_temp = pd.DataFrame(transfomer.fit_transform(train_set.to_numpy()))\n",
    "df_temp.columns = train_set.columns\n",
    "train_set = df_temp"
   ]
  },
  {
   "cell_type": "raw",
   "metadata": {},
   "source": [
    "train_set.isnull().sum()"
   ]
  },
  {
   "cell_type": "markdown",
   "metadata": {},
   "source": [
    "### ### Add age column from model year and posting date"
   ]
  },
  {
   "cell_type": "code",
   "execution_count": 39,
   "metadata": {},
   "outputs": [],
   "source": [
    "class AddAgeColumn(BaseEstimator, TransformerMixin):\n",
    "    def __init__(self, year_col_idx, posting_date_idx): # no *args or **kargs\n",
    "        self.year_col_idx = year_col_idx\n",
    "        self.posting_date_idx = posting_date_idx\n",
    "        \n",
    "    def fit(self, X, y=None):\n",
    "        return self  # nothing else to do\n",
    "    def transform(self, X):\n",
    "        inp = X.values\n",
    "        post_date=pd.Series(pd.to_datetime(inp[:, self.posting_date_idx], utc=True))\n",
    "        year = (inp[:, self.year_col_idx] - 1).astype(int).astype(str)\n",
    "        manu_year=np.char.add(year, \"/09/30\")\n",
    "        manu_date = pd.to_datetime(manu_year, format=\"%Y/%m/%d\", utc=True)\n",
    "        #ser = pd.Series(inp[:, self.posting_date_idx])\n",
    "        #print(post_date.dtypes)\n",
    "        diff = pd.to_datetime(post_date).subtract(manu_date)\n",
    "        return np.c_[(diff/np.timedelta64(1, 'M'))]"
   ]
  },
  {
   "cell_type": "code",
   "execution_count": 40,
   "metadata": {},
   "outputs": [],
   "source": [
    "attr_adder = AddAgeColumn(train_set.columns.get_loc(\"year\"), train_set.columns.get_loc(\"posting_date\"))\n",
    "age_col = attr_adder.transform(train_set)"
   ]
  },
  {
   "cell_type": "code",
   "execution_count": 41,
   "metadata": {},
   "outputs": [
    {
     "data": {
      "text/html": [
       "<div>\n",
       "<style scoped>\n",
       "    .dataframe tbody tr th:only-of-type {\n",
       "        vertical-align: middle;\n",
       "    }\n",
       "\n",
       "    .dataframe tbody tr th {\n",
       "        vertical-align: top;\n",
       "    }\n",
       "\n",
       "    .dataframe thead th {\n",
       "        text-align: right;\n",
       "    }\n",
       "</style>\n",
       "<table border=\"1\" class=\"dataframe\">\n",
       "  <thead>\n",
       "    <tr style=\"text-align: right;\">\n",
       "      <th></th>\n",
       "      <th>region</th>\n",
       "      <th>price</th>\n",
       "      <th>year</th>\n",
       "      <th>manufacturer</th>\n",
       "      <th>model</th>\n",
       "      <th>condition</th>\n",
       "      <th>cylinders</th>\n",
       "      <th>fuel</th>\n",
       "      <th>odometer</th>\n",
       "      <th>title_status</th>\n",
       "      <th>transmission</th>\n",
       "      <th>drive</th>\n",
       "      <th>type</th>\n",
       "      <th>paint_color</th>\n",
       "      <th>state</th>\n",
       "      <th>lat</th>\n",
       "      <th>long</th>\n",
       "      <th>posting_date</th>\n",
       "      <th>age_in_months</th>\n",
       "    </tr>\n",
       "  </thead>\n",
       "  <tbody>\n",
       "    <tr>\n",
       "      <th>0</th>\n",
       "      <td>kenosha-racine</td>\n",
       "      <td>3999</td>\n",
       "      <td>2003.0</td>\n",
       "      <td>honda</td>\n",
       "      <td>accord</td>\n",
       "      <td>like new</td>\n",
       "      <td>4 cylinders</td>\n",
       "      <td>gas</td>\n",
       "      <td>134578.0</td>\n",
       "      <td>clean</td>\n",
       "      <td>automatic</td>\n",
       "      <td>fwd</td>\n",
       "      <td>sedan</td>\n",
       "      <td>white</td>\n",
       "      <td>wi</td>\n",
       "      <td>43.118800</td>\n",
       "      <td>-87.947800</td>\n",
       "      <td>2020-11-28T11:17:04-0600</td>\n",
       "      <td>217.982963</td>\n",
       "    </tr>\n",
       "    <tr>\n",
       "      <th>1</th>\n",
       "      <td>cape cod / islands</td>\n",
       "      <td>6499</td>\n",
       "      <td>2011.0</td>\n",
       "      <td>nissan</td>\n",
       "      <td>pathfinder</td>\n",
       "      <td>good</td>\n",
       "      <td>6 cylinders</td>\n",
       "      <td>gas</td>\n",
       "      <td>156300.0</td>\n",
       "      <td>clean</td>\n",
       "      <td>automatic</td>\n",
       "      <td>4wd</td>\n",
       "      <td>sedan</td>\n",
       "      <td>white</td>\n",
       "      <td>ma</td>\n",
       "      <td>41.673575</td>\n",
       "      <td>-70.266194</td>\n",
       "      <td>2020-11-13T12:20:33-0500</td>\n",
       "      <td>121.488248</td>\n",
       "    </tr>\n",
       "    <tr>\n",
       "      <th>2</th>\n",
       "      <td>el paso</td>\n",
       "      <td>5600</td>\n",
       "      <td>2006.0</td>\n",
       "      <td>nissan</td>\n",
       "      <td>xterra</td>\n",
       "      <td>good</td>\n",
       "      <td>6 cylinders</td>\n",
       "      <td>gas</td>\n",
       "      <td>119000.0</td>\n",
       "      <td>clean</td>\n",
       "      <td>automatic</td>\n",
       "      <td>rwd</td>\n",
       "      <td>SUV</td>\n",
       "      <td>grey</td>\n",
       "      <td>tx</td>\n",
       "      <td>31.817096</td>\n",
       "      <td>-106.561892</td>\n",
       "      <td>2020-11-30T15:30:51-0700</td>\n",
       "      <td>182.046879</td>\n",
       "    </tr>\n",
       "    <tr>\n",
       "      <th>3</th>\n",
       "      <td>ventura county</td>\n",
       "      <td>5995</td>\n",
       "      <td>2014.0</td>\n",
       "      <td>nissan</td>\n",
       "      <td>versa hatchback</td>\n",
       "      <td>excellent</td>\n",
       "      <td>4 cylinders</td>\n",
       "      <td>gas</td>\n",
       "      <td>84000.0</td>\n",
       "      <td>clean</td>\n",
       "      <td>automatic</td>\n",
       "      <td>4wd</td>\n",
       "      <td>sedan</td>\n",
       "      <td>silver</td>\n",
       "      <td>ca</td>\n",
       "      <td>34.226200</td>\n",
       "      <td>-118.447000</td>\n",
       "      <td>2020-11-07T09:23:12-0800</td>\n",
       "      <td>85.282226</td>\n",
       "    </tr>\n",
       "    <tr>\n",
       "      <th>4</th>\n",
       "      <td>central michigan</td>\n",
       "      <td>11995</td>\n",
       "      <td>2007.0</td>\n",
       "      <td>chevrolet</td>\n",
       "      <td>avalanche</td>\n",
       "      <td>good</td>\n",
       "      <td>6 cylinders</td>\n",
       "      <td>gas</td>\n",
       "      <td>114614.0</td>\n",
       "      <td>clean</td>\n",
       "      <td>automatic</td>\n",
       "      <td>4wd</td>\n",
       "      <td>sedan</td>\n",
       "      <td>white</td>\n",
       "      <td>mi</td>\n",
       "      <td>43.182400</td>\n",
       "      <td>-84.112200</td>\n",
       "      <td>2020-11-27T11:24:03-0500</td>\n",
       "      <td>169.947912</td>\n",
       "    </tr>\n",
       "  </tbody>\n",
       "</table>\n",
       "</div>"
      ],
      "text/plain": [
       "               region  price    year manufacturer            model  condition  \\\n",
       "0      kenosha-racine   3999  2003.0        honda           accord   like new   \n",
       "1  cape cod / islands   6499  2011.0       nissan       pathfinder       good   \n",
       "2             el paso   5600  2006.0       nissan           xterra       good   \n",
       "3      ventura county   5995  2014.0       nissan  versa hatchback  excellent   \n",
       "4    central michigan  11995  2007.0    chevrolet        avalanche       good   \n",
       "\n",
       "     cylinders fuel  odometer title_status transmission drive   type  \\\n",
       "0  4 cylinders  gas  134578.0        clean    automatic   fwd  sedan   \n",
       "1  6 cylinders  gas  156300.0        clean    automatic   4wd  sedan   \n",
       "2  6 cylinders  gas  119000.0        clean    automatic   rwd    SUV   \n",
       "3  4 cylinders  gas   84000.0        clean    automatic   4wd  sedan   \n",
       "4  6 cylinders  gas  114614.0        clean    automatic   4wd  sedan   \n",
       "\n",
       "  paint_color state        lat        long              posting_date  \\\n",
       "0       white    wi  43.118800  -87.947800  2020-11-28T11:17:04-0600   \n",
       "1       white    ma  41.673575  -70.266194  2020-11-13T12:20:33-0500   \n",
       "2        grey    tx  31.817096 -106.561892  2020-11-30T15:30:51-0700   \n",
       "3      silver    ca  34.226200 -118.447000  2020-11-07T09:23:12-0800   \n",
       "4       white    mi  43.182400  -84.112200  2020-11-27T11:24:03-0500   \n",
       "\n",
       "   age_in_months  \n",
       "0     217.982963  \n",
       "1     121.488248  \n",
       "2     182.046879  \n",
       "3      85.282226  \n",
       "4     169.947912  "
      ]
     },
     "execution_count": 41,
     "metadata": {},
     "output_type": "execute_result"
    }
   ],
   "source": [
    "train_set[\"age_in_months\"] = age_col\n",
    "train_set.head()"
   ]
  },
  {
   "cell_type": "markdown",
   "metadata": {},
   "source": [
    "### distribution plot for age in months"
   ]
  },
  {
   "cell_type": "code",
   "execution_count": 42,
   "metadata": {},
   "outputs": [
    {
     "data": {
      "image/png": "[encoded data removed]",
      "text/plain": [
       "<Figure size 1152x576 with 1 Axes>"
      ]
     },
     "metadata": {},
     "output_type": "display_data"
    }
   ],
   "source": [
    "sns.displot(x=train_set.age_in_months.astype(int), kde=True, rug=True, height=8, bins=50, aspect=2 )\n",
    "plt.show()"
   ]
  },
  {
   "cell_type": "markdown",
   "metadata": {},
   "source": [
    "### Classes for Model Creation"
   ]
  },
  {
   "cell_type": "markdown",
   "metadata": {},
   "source": [
    "### Class for removing column"
   ]
  },
  {
   "cell_type": "code",
   "execution_count": 43,
   "metadata": {},
   "outputs": [],
   "source": [
    "class DropColumns(BaseEstimator, TransformerMixin):\n",
    "    def __init__(self, attribute_name):\n",
    "        self.attribute_name = attribute_name\n",
    "    def fit(self, X, y=None):\n",
    "        return self\n",
    "    def transform(self, X):\n",
    "        return  X[[b for b in list(X.columns) if b != self.attribute_name]]\n",
    "        return X[self.attribute_names].values\n",
    "\n",
    "drop_col = DropColumns(\"posting_date\")\n",
    "train_set = pd.DataFrame( drop_col.transform(train_set))"
   ]
  },
  {
   "cell_type": "markdown",
   "metadata": {},
   "source": [
    "### Class for Column Selection"
   ]
  },
  {
   "cell_type": "code",
   "execution_count": 44,
   "metadata": {},
   "outputs": [],
   "source": [
    "class ColumnSelector(BaseEstimator, TransformerMixin):\n",
    "    def __init__(self, attribute_names):\n",
    "        self.attribute_names = attribute_names\n",
    "    def fit(self, X, y=None):\n",
    "        return self\n",
    "    def transform(self, X):\n",
    "        return X[self.attribute_names].values\n",
    "num_sel = ColumnSelector(num_attr)\n",
    "df_num_attrs = num_sel.transform(train_set)"
   ]
  },
  {
   "cell_type": "markdown",
   "metadata": {},
   "source": [
    "### Model Creation"
   ]
  },
  {
   "cell_type": "markdown",
   "metadata": {},
   "source": [
    "### We will not use lat, lang, and state columns as they are redundant with region"
   ]
  },
  {
   "cell_type": "code",
   "execution_count": 45,
   "metadata": {},
   "outputs": [],
   "source": [
    "num_attr = [\"year\", \"odometer\"]\n",
    "cat_attr = [\"region\", \"manufacturer\", \"model\", \"condition\", \"cylinders\", \"fuel\", \"title_status\", \"transmission\", \"drive\", \"paint_color\", \"type\", \"size\", \"state\"]"
   ]
  },
  {
   "cell_type": "code",
   "execution_count": 46,
   "metadata": {},
   "outputs": [],
   "source": [
    "est = OutlierExtraction({\"price\":[0.15, 0.95], \"year\":[0.10, 0.999],\"odometer\":[0, 0.90]})\n",
    "train_set_copy = est.fit_transform(train_set_copy)"
   ]
  },
  {
   "cell_type": "code",
   "execution_count": 47,
   "metadata": {},
   "outputs": [],
   "source": [
    "num_pipeline = Pipeline([('selector', ColumnSelector(num_attr)),\n",
    "                         ('replace-blanks',ReplaceBlankValues()),\n",
    "                         ('imputer', FillMissingValueWithMostFrequent()),                           \n",
    "                         #('scaler', StandardScaler())\n",
    "                        ])\n",
    "test = num_pipeline.fit_transform(train_set_copy) "
   ]
  },
  {
   "cell_type": "code",
   "execution_count": 48,
   "metadata": {},
   "outputs": [],
   "source": [
    "add_age_pipeline = AddAgeColumn(train_set_copy.columns.get_loc(\"year\"), train_set_copy.columns.get_loc(\"posting_date\"))\n",
    "age_col = add_age_pipeline.transform(train_set_copy)"
   ]
  },
  {
   "cell_type": "markdown",
   "metadata": {},
   "source": [
    "### Class for Onehot encoding"
   ]
  },
  {
   "cell_type": "code",
   "execution_count": 49,
   "metadata": {},
   "outputs": [],
   "source": [
    "class OneHotEncoderWithCategories(BaseEstimator, TransformerMixin):\n",
    "    def __init__(self, categories, index):\n",
    "        self.categories = categories\n",
    "        self.index = index\n",
    "\n",
    "    def transform(self, X):\n",
    "        colval = X[:,self.index]\n",
    "        encoder = OneHotEncoder(categories=self.categories)\n",
    "        return encoder.fit_transform(colval.reshape(-1, 1))\n",
    "        \n",
    "    def fit(self, X, y = None):\n",
    "        return self\n",
    "\n",
    "\n",
    "class CombineOneHotEncodedCategories(BaseEstimator, TransformerMixin):\n",
    "    def __init__(self, sorted_cat_map):\n",
    "        self.sorted_cat_map = sorted_cat_map\n",
    "\n",
    "    def transform(self, X):\n",
    "        transformers = []\n",
    "        i = 0\n",
    "        for col in range(X.shape[1]): \n",
    "            cat = [self.sorted_cat_map[i]]\n",
    "            #print(\"Cat\", cat)\n",
    "            encoder = OneHotEncoderWithCategories(cat, col)\n",
    "            tup = (str(i), encoder)\n",
    "            #print(\"encoder\", encoder)\n",
    "            transformers.append(tup)\n",
    "            i += 1\n",
    "        #print(transformers)\n",
    "        cat_combine = FeatureUnion(transformer_list=transformers)    \n",
    "        return cat_combine.fit_transform(X)\n",
    "\n",
    "    def fit(self, X, y = None):\n",
    "        return self"
   ]
  },
  {
   "cell_type": "markdown",
   "metadata": {},
   "source": [
    "### Sort the categories to use with Onehot encoder"
   ]
  },
  {
   "cell_type": "code",
   "execution_count": 50,
   "metadata": {},
   "outputs": [],
   "source": [
    "cat_map_sorted = sortedmap.sortedmap()\n",
    "i =0 \n",
    "for attr in cat_attr: \n",
    "    col = categories_map[attr]\n",
    "    cat_map_sorted[i] = col.ravel()\n",
    "    i += 1"
   ]
  },
  {
   "cell_type": "code",
   "execution_count": 51,
   "metadata": {},
   "outputs": [],
   "source": [
    "cat_pipeline = Pipeline([('selector', ColumnSelector(cat_attr)),\n",
    "                         ('replace-blanks',ReplaceBlankValues()),\n",
    "                         ('imputer', FillMissingValueWithMostFrequent()), \n",
    "                         ('onehotEncoding', CombineOneHotEncodedCategories(cat_map_sorted))\n",
    "                        ])\n",
    "test2 = cat_pipeline.fit_transform(train_set_copy)"
   ]
  },
  {
   "cell_type": "markdown",
   "metadata": {},
   "source": [
    "### Full Pipeline"
   ]
  },
  {
   "cell_type": "code",
   "execution_count": 52,
   "metadata": {},
   "outputs": [],
   "source": [
    "full_pipeline = FeatureUnion(transformer_list=[\n",
    "        (\"cat_pipeline\", cat_pipeline),\n",
    "        (\"num_pipeline\", num_pipeline),\n",
    "        (\"add_age_col\", add_age_pipeline)\n",
    "    ])\n",
    "\n",
    "train_prepared = full_pipeline.fit_transform(train_set_copy)\n",
    "#df_for_split = pd.DataFrame(df_prepared)\n",
    "#df_for_split[\"price\"] = train_set_copy.price"
   ]
  },
  {
   "cell_type": "markdown",
   "metadata": {},
   "source": [
    "### Feature Selection"
   ]
  },
  {
   "cell_type": "code",
   "execution_count": 53,
   "metadata": {},
   "outputs": [
    {
     "name": "stdout",
     "output_type": "stream",
     "text": [
      "(219937, 32083)\n",
      "(219937, 20000)\n"
     ]
    }
   ],
   "source": [
    "#from sklearn import feature_selection\n",
    "#feature_selection.chi2(train_prepared, train_set_copy.price)\n",
    "\n",
    "from sklearn.feature_selection import SelectKBest\n",
    "from sklearn.feature_selection import chi2\n",
    "#X = df_sel.drop(columns=[\"lat\", \"long\"])\n",
    "#X =X[X.transmission>=0]\n",
    "#X =X[X.title_status>=0]\n",
    "#X =X[X.drive>=0]\n",
    "print(train_prepared.shape)\n",
    "X_new = SelectKBest(score_func=chi2, k=20000).fit_transform(train_prepared, train_set_copy.price)\n",
    "print(X_new.shape)"
   ]
  },
  {
   "cell_type": "markdown",
   "metadata": {},
   "source": [
    "### Linear Regression"
   ]
  },
  {
   "cell_type": "code",
   "execution_count": 55,
   "metadata": {},
   "outputs": [],
   "source": [
    "#some of models will predict neg values so this function will remove that values\n",
    "from sklearn.metrics import mean_squared_log_error,r2_score,mean_squared_error\n",
    "def remove_neg(y_test,y_pred):\n",
    "    ind=[index for index in range(len(y_pred)) if(y_pred[index]>0)]\n",
    "    y_pred=y_pred[ind]\n",
    "    y_test=y_test[ind]\n",
    "    y_pred[y_pred<0]\n",
    "    return (y_test,y_pred)\n",
    "\n",
    "def result(y_test,y_pred):\n",
    "    r=[]\n",
    "    r.append(mean_squared_log_error(y_test, y_pred))\n",
    "    r.append(np.sqrt(r[0]))\n",
    "    r.append(r2_score(y_test,y_pred))\n",
    "    r.append(round(r2_score(y_test,y_pred)*100,4))\n",
    "    return (r)\n",
    "accu=pd.DataFrame(index=['MSLE', 'Root MSLE', 'R2 Score','Accuracy(%)'])"
   ]
  },
  {
   "cell_type": "code",
   "execution_count": 56,
   "metadata": {},
   "outputs": [
    {
     "data": {
      "text/plain": [
       "LinearRegression()"
      ]
     },
     "execution_count": 56,
     "metadata": {},
     "output_type": "execute_result"
    }
   ],
   "source": [
    "lin_reg = LinearRegression()\n",
    "lin_reg.fit(train_prepared, train_set_copy.price)"
   ]
  },
  {
   "cell_type": "code",
   "execution_count": 57,
   "metadata": {},
   "outputs": [],
   "source": [
    "test_without_na = test_set.dropna()\n",
    "test_prep = full_pipeline.fit_transform(test_without_na)\n",
    "prediction = lin_reg.predict(test_prep)"
   ]
  },
  {
   "cell_type": "code",
   "execution_count": 58,
   "metadata": {},
   "outputs": [
    {
     "name": "stdout",
     "output_type": "stream",
     "text": [
      "Coefficients: \n",
      " [ 3.69066725e+02  4.30958451e+01  6.86415334e+02 ... -2.44141593e+03\n",
      " -4.84649438e-02 -2.96311391e+02]\n",
      "MSLE : 7.6599911023083695\n",
      "Root MSLE : 2.7676688931858107\n",
      "R2 Score : 0.48411260633339803 or 48.4113%\n"
     ]
    }
   ],
   "source": [
    "y_test_1,y_pred_1=remove_neg(test_without_na.price.to_numpy(),prediction)\n",
    "r1_lr=result(y_test_1,y_pred_1)\n",
    "print('Coefficients: \\n', lin_reg.coef_)\n",
    "print(\"MSLE : {}\".format(r1_lr[0]))\n",
    "print(\"Root MSLE : {}\".format(r1_lr[1]))\n",
    "print(\"R2 Score : {} or {}%\".format(r1_lr[2],r1_lr[3]))\n",
    "accu['Linear Regression']=r1_lr"
   ]
  },
  {
   "cell_type": "markdown",
   "metadata": {},
   "source": [
    "## Grid Search"
   ]
  },
  {
   "cell_type": "code",
   "execution_count": 59,
   "metadata": {},
   "outputs": [],
   "source": [
    "from sklearn.model_selection import GridSearchCV\n",
    "from sklearn.ensemble import RandomForestRegressor\n",
    "from xgboost import XGBRegressor\n",
    "from sklearn.linear_model import Ridge\n",
    "from sklearn.linear_model import LassoCV,RidgeCV\n",
    "from sklearn.model_selection import RepeatedStratifiedKFold\n",
    "from sklearn.model_selection import RandomizedSearchCV\n",
    "\n",
    "def performGridSearch(estimator, params):\n",
    "    #for i in range(len(estimators)):\n",
    "    print( \"*\" * 100)\n",
    "    print(\"Evaluating Model\", estimator)\n",
    "    #https://machinelearningmastery.com/hyperparameter-optimization-with-random-search-and-grid-search/\n",
    "    #grid_clf = RandomizedSearchCV(estimators[i], param_grid[i], cv = cv, verbose = 2)\n",
    "    grid_clf = GridSearchCV(estimator, param_grid=params, cv=cv, verbose=2)\n",
    "    grid_clf.fit(train_prepared, train_set_copy.price)\n",
    "    print(\"*\" * 100)\n",
    "    print(\"Best Score:\", grid_clf.best_score_)\n",
    "    print(\"Best Params:\", grid_clf.best_params_)\n",
    "    print(\"\\n\\n\", \"*\" * 100)"
   ]
  },
  {
   "cell_type": "code",
   "execution_count": 65,
   "metadata": {},
   "outputs": [],
   "source": [
    "cv = RepeatedStratifiedKFold(n_splits=2, n_repeats=1, random_state=random_state)"
   ]
  },
  {
   "cell_type": "markdown",
   "metadata": {},
   "source": [
    "### Linear Regression "
   ]
  },
  {
   "cell_type": "code",
   "execution_count": 66,
   "metadata": {},
   "outputs": [
    {
     "name": "stdout",
     "output_type": "stream",
     "text": [
      "****************************************************************************************************\n",
      "Evaluating Model LinearRegression(n_jobs=15)\n",
      "Fitting 2 folds for each of 1 candidates, totalling 2 fits\n",
      "[Parallel(n_jobs=1)]: Using backend SequentialBackend with 1 concurrent workers.\n",
      "[CV]  ................................................................\n",
      "[CV] ................................................. , total=   1.0s\n",
      "[CV]  ................................................................\n",
      "[Parallel(n_jobs=1)]: Done   1 out of   1 | elapsed:    1.0s remaining:    0.0s\n",
      "[CV] ................................................. , total=   0.9s\n",
      "[Parallel(n_jobs=1)]: Done   2 out of   2 | elapsed:    1.9s finished\n",
      "****************************************************************************************************\n",
      "Best Score: 0.8673394696595771\n",
      "Best Params: {}\n",
      "\n",
      "\n",
      " ****************************************************************************************************\n"
     ]
    }
   ],
   "source": [
    "model = LinearRegression(n_jobs=15)\n",
    "params = {}\n",
    "performGridSearch(model, params)"
   ]
  },
  {
   "cell_type": "code",
   "execution_count": 68,
   "metadata": {},
   "outputs": [
    {
     "name": "stdout",
     "output_type": "stream",
     "text": [
      "****************************************************************************************************\n",
      "Evaluating Model LinearRegression(n_jobs=15)\n",
      "Fitting 2 folds for each of 1 candidates, totalling 2 fits\n",
      "[Parallel(n_jobs=15)]: Using backend LokyBackend with 15 concurrent workers.\n",
      "[Parallel(n_jobs=15)]: Done   2 out of   2 | elapsed:    2.4s finished\n",
      "****************************************************************************************************\n",
      "Best Score: 0.8673689414440094\n",
      "Best Params: {}\n",
      "\n",
      "\n",
      " ****************************************************************************************************\n",
      "****************************************************************************************************\n",
      "Evaluating Model DecisionTreeRegressor(random_state=17)\n",
      "Fitting 2 folds for each of 1 candidates, totalling 2 fits\n",
      "[Parallel(n_jobs=15)]: Using backend LokyBackend with 15 concurrent workers.\n",
      "[Parallel(n_jobs=15)]: Done   2 out of   2 | elapsed:   49.0s finished\n",
      "****************************************************************************************************\n",
      "Best Score: 0.8431618309597142\n",
      "Best Params: {}\n",
      "\n",
      "\n",
      " ****************************************************************************************************\n",
      "****************************************************************************************************\n",
      "Evaluating Model XGBRegressor(base_score=None, booster=None, colsample_bylevel=None,\n",
      "             colsample_bynode=None, colsample_bytree=None, gamma=None, gpu_id=0,\n",
      "             importance_type='gain', interaction_constraints=None,\n",
      "             learning_rate=None, max_delta_step=None, max_depth=None,\n",
      "             min_child_weight=None, missing=nan, monotone_constraints=None,\n",
      "             n_estimators=100, n_jobs=15, num_parallel_tree=None,\n",
      "             random_state=None, reg_alpha=None, reg_lambda=None,\n",
      "             scale_pos_weight=None, subsample=None, tree_method=None,\n",
      "             validate_parameters=None, verbosity=None)\n",
      "Fitting 2 folds for each of 27 candidates, totalling 54 fits\n",
      "[Parallel(n_jobs=15)]: Using backend LokyBackend with 15 concurrent workers.\n",
      "[Parallel(n_jobs=15)]: Done  11 tasks      | elapsed: 16.7min\n",
      "[Parallel(n_jobs=15)]: Done  54 out of  54 | elapsed: 73.0min finished\n",
      "****************************************************************************************************\n",
      "Best Score: 0.9181866223235728\n",
      "Best Params: {'learning_rate': 0.3, 'max_depth': 20, 'n_estimators': 500}\n",
      "\n",
      "\n",
      " ****************************************************************************************************\n",
      "****************************************************************************************************\n",
      "Evaluating Model RandomForestRegressor(n_jobs=15, random_state=17)\n",
      "Fitting 2 folds for each of 3 candidates, totalling 6 fits\n",
      "[Parallel(n_jobs=15)]: Using backend LokyBackend with 15 concurrent workers.\n",
      "[Parallel(n_jobs=15)]: Done   6 out of   6 | elapsed: 61.9min finished\n",
      "****************************************************************************************************\n",
      "Best Score: 0.9055283186930034\n",
      "Best Params: {'n_estimators': 300}\n",
      "\n",
      "\n",
      " ****************************************************************************************************\n"
     ]
    }
   ],
   "source": [
    "param_grid = [\n",
    "              {},\n",
    "              {},\n",
    "              {'learning_rate': [0.1, 0.3, 0.5], 'max_depth':[10, 20, 30], 'n_estimators':[100, 300, 500]},\n",
    "              {'n_estimators':[100, 200, 300]},\n",
    "             ]\n",
    "estimators = [\n",
    "              LinearRegression(n_jobs=15),\n",
    "              DecisionTreeRegressor(random_state=random_state),\n",
    "              XGBRegressor(n_jobs=15,gpu_id=0, objective='reg:squarederror'),\n",
    "              RandomForestRegressor(n_jobs=15, random_state=random_state),\n",
    "             ]\n",
    "for i in range(len(estimators)):\n",
    "    print( \"*\" * 100)\n",
    "    print(\"Evaluating Model\", estimators[i])\n",
    "    #print(param_grid[i])\n",
    "    #https://machinelearningmastery.com/hyperparameter-optimization-with-random-search-and-grid-search/\n",
    "    #grid_clf = RandomizedSearchCV(estimators[i], param_grid[i], cv = cv, verbose = 2)\n",
    "    grid_clf = GridSearchCV(estimators[i], param_grid=param_grid[i], cv=cv, verbose=2, n_jobs=15)\n",
    "    grid_clf.fit(train_prepared, train_set_copy.price)\n",
    "    print(\"*\" * 100)\n",
    "    print(\"Best Score:\", grid_clf.best_score_)\n",
    "    print(\"Best Params:\", grid_clf.best_params_)\n",
    "    print(\"\\n\\n\", \"*\" * 100)\n",
    "    #print(\"Clf\",estimators[i], \"Score\", grid_clf.score(test_prep, test_without_na.price))\n"
   ]
  },
  {
   "cell_type": "code",
   "execution_count": 82,
   "metadata": {},
   "outputs": [
    {
     "data": {
      "text/plain": [
       "{'mean_fit_time': array([1987.76861167, 3161.05342114, 3707.53344262]),\n",
       " 'std_fit_time': array([ 5.85776281, 18.00221574,  5.77094352]),\n",
       " 'mean_score_time': array([2.29687011, 2.92214537, 1.52882147]),\n",
       " 'std_score_time': array([0.12891829, 0.03800249, 0.15415812]),\n",
       " 'param_n_estimators': masked_array(data=[100, 200, 300],\n",
       "              mask=[False, False, False],\n",
       "        fill_value='?',\n",
       "             dtype=object),\n",
       " 'params': [{'n_estimators': 100},\n",
       "  {'n_estimators': 200},\n",
       "  {'n_estimators': 300}],\n",
       " 'split0_test_score': array([0.90405461, 0.90435215, 0.90450468]),\n",
       " 'split1_test_score': array([0.9059593 , 0.90637338, 0.90655195]),\n",
       " 'mean_test_score': array([0.90500695, 0.90536277, 0.90552832]),\n",
       " 'std_test_score': array([0.00095234, 0.00101062, 0.00102363]),\n",
       " 'rank_test_score': array([3, 2, 1], dtype=int32)}"
      ]
     },
     "execution_count": 82,
     "metadata": {},
     "output_type": "execute_result"
    }
   ],
   "source": [
    "grid_clf.cv_results_"
   ]
  },
  {
   "cell_type": "code",
   "execution_count": 72,
   "metadata": {},
   "outputs": [],
   "source": [
    "import scipy\n",
    "scipy.sparse.save_npz(\"train-set-X.csv\", train_prepared, compressed=True)"
   ]
  },
  {
   "cell_type": "code",
   "execution_count": 76,
   "metadata": {},
   "outputs": [],
   "source": [
    "train_set_copy.price.to_csv(\"train-set-Y.csv\")"
   ]
  },
  {
   "cell_type": "code",
   "execution_count": 77,
   "metadata": {},
   "outputs": [],
   "source": [
    "scipy.sparse.save_npz(\"test-set-X.csv\", test_prep, compressed=True)"
   ]
  },
  {
   "cell_type": "code",
   "execution_count": 78,
   "metadata": {},
   "outputs": [],
   "source": [
    "test_without_na.price.to_csv(\"test-set-Y.csv\")"
   ]
  }
 ],
 "metadata": {
  "kernelspec": {
   "display_name": "Python 3",
   "language": "python",
   "name": "python3"
  },
  "language_info": {
   "codemirror_mode": {
    "name": "ipython",
    "version": 3
   },
   "file_extension": ".py",
   "mimetype": "text/x-python",
   "name": "python",
   "nbconvert_exporter": "python",
   "pygments_lexer": "ipython3",
   "version": "3.8.5"
  }
 },
 "nbformat": 4,
 "nbformat_minor": 4
}
