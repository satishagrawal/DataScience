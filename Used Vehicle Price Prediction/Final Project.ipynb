{
 "cells": [
  {
   "cell_type": "markdown",
   "metadata": {
    "pycharm": {
     "name": "#%% md\n"
    }
   },
   "source": [
    "# Final Project: Used Car Price Predictor\n",
    "### Author: Satish Agrawal, Sanjay Jaras\n",
    "### Bellevue University\n",
    "### DSC 630 - Predictive Analytics"
   ]
  },
  {
   "cell_type": "markdown",
   "metadata": {
    "pycharm": {
     "name": "#%% md\n"
    }
   },
   "source": [
    "## Import Libraries"
   ]
  },
  {
   "cell_type": "code",
   "execution_count": 1,
   "metadata": {},
   "outputs": [],
   "source": [
    "import pandas as pd\n",
    "import numpy as np\n",
    "import matplotlib.pyplot as plt\n",
    "from matplotlib import __version__ as mpv\n",
    "import types\n",
    "import seaborn as sns\n",
    "\n",
    "from sklearn import __version__ as sklv\n",
    "from sklearn.preprocessing import LabelEncoder\n",
    "from sklearn.linear_model import BayesianRidge\n",
    "from sklearn.pipeline import make_pipeline\n",
    "from sklearn.impute import SimpleImputer\n",
    "from sklearn.model_selection import cross_val_score\n",
    "from sklearn.experimental import enable_iterative_imputer\n",
    "from sklearn.impute import IterativeImputer\n",
    "from sklearn.ensemble import ExtraTreesRegressor\n",
    "from sklearn.linear_model import BayesianRidge\n",
    "from sklearn.tree import DecisionTreeRegressor\n",
    "from sklearn.neighbors import KNeighborsRegressor\n",
    "from sklearn.linear_model import SGDRegressor\n",
    "from sklearn.linear_model import Lasso\n",
    "from sklearn.model_selection import train_test_split\n",
    "from sklearn.preprocessing import OneHotEncoder\n",
    "from sklearn.base import BaseEstimator, TransformerMixin\n",
    "from sklearn.pipeline import Pipeline\n",
    "from sklearn.preprocessing import StandardScaler\n",
    "from sklearn.neighbors import LocalOutlierFactor\n",
    "from sklearn.pipeline import FeatureUnion\n",
    "from sklearn.linear_model import LinearRegression"
   ]
  },
  {
   "cell_type": "code",
   "execution_count": 2,
   "metadata": {},
   "outputs": [
    {
     "name": "stdout",
     "output_type": "stream",
     "text": [
      "Using version 1.2.0 of pandas\n",
      "Using version 1.19.2 of numpy\n",
      "Using version 3.3.2 of matplotlib\n",
      "Using version 0.11.1 of seaborn\n",
      "Using version 0.23.2 of sklearn\n"
     ]
    }
   ],
   "source": [
    "print('Using version %s of pandas' % pd.__version__)\n",
    "print('Using version %s of numpy' % np.__version__)\n",
    "print('Using version %s of matplotlib' % mpv)\n",
    "print('Using version %s of seaborn' % sns.__version__)\n",
    "print('Using version %s of sklearn' % sklv)"
   ]
  },
  {
   "cell_type": "markdown",
   "metadata": {
    "pycharm": {
     "name": "#%% md\n"
    }
   },
   "source": [
    "## Configurations\n"
   ]
  },
  {
   "cell_type": "code",
   "execution_count": 3,
   "metadata": {
    "collapsed": false,
    "jupyter": {
     "outputs_hidden": false
    },
    "pycharm": {
     "name": "#%%\n"
    }
   },
   "outputs": [],
   "source": [
    "%matplotlib inline\n",
    "plt.style.use(\"seaborn-darkgrid\")\n",
    "random_state = 17\n",
    "np.random.seed(random_state)"
   ]
  },
  {
   "cell_type": "markdown",
   "metadata": {
    "pycharm": {
     "name": "#%% md\n"
    }
   },
   "source": [
    "## Load Data\n",
    "Data downloaded from https://www.kaggle.com/austinreese/craigslist-carstrucks-data\n"
   ]
  },
  {
   "cell_type": "code",
   "execution_count": 4,
   "metadata": {
    "collapsed": false,
    "jupyter": {
     "outputs_hidden": false
    },
    "pycharm": {
     "name": "#%%\n"
    }
   },
   "outputs": [],
   "source": [
    "org_df = pd.read_csv(\"vehicles.csv\", index_col=[0], converters={\"cylinders\":str})"
   ]
  },
  {
   "cell_type": "markdown",
   "metadata": {
    "pycharm": {
     "name": "#%% md\n"
    }
   },
   "source": [
    "### Show summary"
   ]
  },
  {
   "cell_type": "code",
   "execution_count": 5,
   "metadata": {},
   "outputs": [
    {
     "data": {
      "text/plain": [
       "(458213, 25)"
      ]
     },
     "execution_count": 5,
     "metadata": {},
     "output_type": "execute_result"
    }
   ],
   "source": [
    "org_df.shape"
   ]
  },
  {
   "cell_type": "code",
   "execution_count": 6,
   "metadata": {
    "collapsed": false,
    "jupyter": {
     "outputs_hidden": false
    },
    "pycharm": {
     "name": "#%%\n"
    }
   },
   "outputs": [
    {
     "data": {
      "text/html": [
       "<div>\n",
       "<style scoped>\n",
       "    .dataframe tbody tr th:only-of-type {\n",
       "        vertical-align: middle;\n",
       "    }\n",
       "\n",
       "    .dataframe tbody tr th {\n",
       "        vertical-align: top;\n",
       "    }\n",
       "\n",
       "    .dataframe thead th {\n",
       "        text-align: right;\n",
       "    }\n",
       "</style>\n",
       "<table border=\"1\" class=\"dataframe\">\n",
       "  <thead>\n",
       "    <tr style=\"text-align: right;\">\n",
       "      <th></th>\n",
       "      <th>id</th>\n",
       "      <th>url</th>\n",
       "      <th>region</th>\n",
       "      <th>region_url</th>\n",
       "      <th>price</th>\n",
       "      <th>year</th>\n",
       "      <th>manufacturer</th>\n",
       "      <th>model</th>\n",
       "      <th>condition</th>\n",
       "      <th>cylinders</th>\n",
       "      <th>...</th>\n",
       "      <th>drive</th>\n",
       "      <th>size</th>\n",
       "      <th>type</th>\n",
       "      <th>paint_color</th>\n",
       "      <th>image_url</th>\n",
       "      <th>description</th>\n",
       "      <th>state</th>\n",
       "      <th>lat</th>\n",
       "      <th>long</th>\n",
       "      <th>posting_date</th>\n",
       "    </tr>\n",
       "  </thead>\n",
       "  <tbody>\n",
       "    <tr>\n",
       "      <th>0</th>\n",
       "      <td>7240372487</td>\n",
       "      <td>https://auburn.craigslist.org/ctd/d/auburn-uni...</td>\n",
       "      <td>auburn</td>\n",
       "      <td>https://auburn.craigslist.org</td>\n",
       "      <td>35990</td>\n",
       "      <td>2010.0</td>\n",
       "      <td>chevrolet</td>\n",
       "      <td>corvette grand sport</td>\n",
       "      <td>good</td>\n",
       "      <td>8 cylinders</td>\n",
       "      <td>...</td>\n",
       "      <td>rwd</td>\n",
       "      <td>NaN</td>\n",
       "      <td>other</td>\n",
       "      <td>NaN</td>\n",
       "      <td>https://images.craigslist.org/00N0N_ipkbHVZYf4...</td>\n",
       "      <td>Carvana is the safer way to buy a car During t...</td>\n",
       "      <td>al</td>\n",
       "      <td>32.590000</td>\n",
       "      <td>-85.480000</td>\n",
       "      <td>2020-12-02T08:11:30-0600</td>\n",
       "    </tr>\n",
       "    <tr>\n",
       "      <th>1</th>\n",
       "      <td>7240309422</td>\n",
       "      <td>https://auburn.craigslist.org/cto/d/auburn-201...</td>\n",
       "      <td>auburn</td>\n",
       "      <td>https://auburn.craigslist.org</td>\n",
       "      <td>7500</td>\n",
       "      <td>2014.0</td>\n",
       "      <td>hyundai</td>\n",
       "      <td>sonata</td>\n",
       "      <td>excellent</td>\n",
       "      <td>4 cylinders</td>\n",
       "      <td>...</td>\n",
       "      <td>fwd</td>\n",
       "      <td>NaN</td>\n",
       "      <td>sedan</td>\n",
       "      <td>NaN</td>\n",
       "      <td>https://images.craigslist.org/00s0s_gBHYmJ5o7y...</td>\n",
       "      <td>I'll move to another city and try to sell my c...</td>\n",
       "      <td>al</td>\n",
       "      <td>32.547500</td>\n",
       "      <td>-85.468200</td>\n",
       "      <td>2020-12-02T02:11:50-0600</td>\n",
       "    </tr>\n",
       "    <tr>\n",
       "      <th>2</th>\n",
       "      <td>7240224296</td>\n",
       "      <td>https://auburn.craigslist.org/cto/d/auburn-200...</td>\n",
       "      <td>auburn</td>\n",
       "      <td>https://auburn.craigslist.org</td>\n",
       "      <td>4900</td>\n",
       "      <td>2006.0</td>\n",
       "      <td>bmw</td>\n",
       "      <td>x3 3.0i</td>\n",
       "      <td>good</td>\n",
       "      <td>6 cylinders</td>\n",
       "      <td>...</td>\n",
       "      <td>NaN</td>\n",
       "      <td>NaN</td>\n",
       "      <td>SUV</td>\n",
       "      <td>blue</td>\n",
       "      <td>https://images.craigslist.org/00B0B_5zgEGWPOrt...</td>\n",
       "      <td>Clean 2006 BMW X3 3.0I.  Beautiful and rare Bl...</td>\n",
       "      <td>al</td>\n",
       "      <td>32.616807</td>\n",
       "      <td>-85.464149</td>\n",
       "      <td>2020-12-01T19:50:41-0600</td>\n",
       "    </tr>\n",
       "    <tr>\n",
       "      <th>3</th>\n",
       "      <td>7240103965</td>\n",
       "      <td>https://auburn.craigslist.org/cto/d/lanett-tru...</td>\n",
       "      <td>auburn</td>\n",
       "      <td>https://auburn.craigslist.org</td>\n",
       "      <td>2000</td>\n",
       "      <td>1974.0</td>\n",
       "      <td>chevrolet</td>\n",
       "      <td>c-10</td>\n",
       "      <td>good</td>\n",
       "      <td>4 cylinders</td>\n",
       "      <td>...</td>\n",
       "      <td>rwd</td>\n",
       "      <td>full-size</td>\n",
       "      <td>pickup</td>\n",
       "      <td>blue</td>\n",
       "      <td>https://images.craigslist.org/00M0M_6o7KcDpArw...</td>\n",
       "      <td>1974 chev. truck (LONG BED) NEW starter front ...</td>\n",
       "      <td>al</td>\n",
       "      <td>32.861600</td>\n",
       "      <td>-85.216100</td>\n",
       "      <td>2020-12-01T15:54:45-0600</td>\n",
       "    </tr>\n",
       "    <tr>\n",
       "      <th>4</th>\n",
       "      <td>7239983776</td>\n",
       "      <td>https://auburn.craigslist.org/cto/d/auburn-200...</td>\n",
       "      <td>auburn</td>\n",
       "      <td>https://auburn.craigslist.org</td>\n",
       "      <td>19500</td>\n",
       "      <td>2005.0</td>\n",
       "      <td>ford</td>\n",
       "      <td>f350 lariat</td>\n",
       "      <td>excellent</td>\n",
       "      <td>8 cylinders</td>\n",
       "      <td>...</td>\n",
       "      <td>4wd</td>\n",
       "      <td>full-size</td>\n",
       "      <td>pickup</td>\n",
       "      <td>blue</td>\n",
       "      <td>https://images.craigslist.org/00p0p_b95l1EgUfl...</td>\n",
       "      <td>2005 Ford F350 Lariat (Bullet Proofed). This t...</td>\n",
       "      <td>al</td>\n",
       "      <td>32.547500</td>\n",
       "      <td>-85.468200</td>\n",
       "      <td>2020-12-01T12:53:56-0600</td>\n",
       "    </tr>\n",
       "  </tbody>\n",
       "</table>\n",
       "<p>5 rows × 25 columns</p>\n",
       "</div>"
      ],
      "text/plain": [
       "           id                                                url  region  \\\n",
       "0  7240372487  https://auburn.craigslist.org/ctd/d/auburn-uni...  auburn   \n",
       "1  7240309422  https://auburn.craigslist.org/cto/d/auburn-201...  auburn   \n",
       "2  7240224296  https://auburn.craigslist.org/cto/d/auburn-200...  auburn   \n",
       "3  7240103965  https://auburn.craigslist.org/cto/d/lanett-tru...  auburn   \n",
       "4  7239983776  https://auburn.craigslist.org/cto/d/auburn-200...  auburn   \n",
       "\n",
       "                      region_url  price    year manufacturer  \\\n",
       "0  https://auburn.craigslist.org  35990  2010.0    chevrolet   \n",
       "1  https://auburn.craigslist.org   7500  2014.0      hyundai   \n",
       "2  https://auburn.craigslist.org   4900  2006.0          bmw   \n",
       "3  https://auburn.craigslist.org   2000  1974.0    chevrolet   \n",
       "4  https://auburn.craigslist.org  19500  2005.0         ford   \n",
       "\n",
       "                  model  condition    cylinders  ... drive       size    type  \\\n",
       "0  corvette grand sport       good  8 cylinders  ...   rwd        NaN   other   \n",
       "1                sonata  excellent  4 cylinders  ...   fwd        NaN   sedan   \n",
       "2               x3 3.0i       good  6 cylinders  ...   NaN        NaN     SUV   \n",
       "3                  c-10       good  4 cylinders  ...   rwd  full-size  pickup   \n",
       "4           f350 lariat  excellent  8 cylinders  ...   4wd  full-size  pickup   \n",
       "\n",
       "  paint_color                                          image_url  \\\n",
       "0         NaN  https://images.craigslist.org/00N0N_ipkbHVZYf4...   \n",
       "1         NaN  https://images.craigslist.org/00s0s_gBHYmJ5o7y...   \n",
       "2        blue  https://images.craigslist.org/00B0B_5zgEGWPOrt...   \n",
       "3        blue  https://images.craigslist.org/00M0M_6o7KcDpArw...   \n",
       "4        blue  https://images.craigslist.org/00p0p_b95l1EgUfl...   \n",
       "\n",
       "                                         description state        lat  \\\n",
       "0  Carvana is the safer way to buy a car During t...    al  32.590000   \n",
       "1  I'll move to another city and try to sell my c...    al  32.547500   \n",
       "2  Clean 2006 BMW X3 3.0I.  Beautiful and rare Bl...    al  32.616807   \n",
       "3  1974 chev. truck (LONG BED) NEW starter front ...    al  32.861600   \n",
       "4  2005 Ford F350 Lariat (Bullet Proofed). This t...    al  32.547500   \n",
       "\n",
       "        long              posting_date  \n",
       "0 -85.480000  2020-12-02T08:11:30-0600  \n",
       "1 -85.468200  2020-12-02T02:11:50-0600  \n",
       "2 -85.464149  2020-12-01T19:50:41-0600  \n",
       "3 -85.216100  2020-12-01T15:54:45-0600  \n",
       "4 -85.468200  2020-12-01T12:53:56-0600  \n",
       "\n",
       "[5 rows x 25 columns]"
      ]
     },
     "execution_count": 6,
     "metadata": {},
     "output_type": "execute_result"
    }
   ],
   "source": [
    "org_df.head()"
   ]
  },
  {
   "cell_type": "markdown",
   "metadata": {
    "pycharm": {
     "name": "#%% md\n"
    }
   },
   "source": [
    "### Show Original Data types"
   ]
  },
  {
   "cell_type": "code",
   "execution_count": 7,
   "metadata": {
    "collapsed": false,
    "jupyter": {
     "outputs_hidden": false
    },
    "pycharm": {
     "name": "#%%\n"
    }
   },
   "outputs": [
    {
     "data": {
      "text/plain": [
       "id                int64\n",
       "url              object\n",
       "region           object\n",
       "region_url       object\n",
       "price             int64\n",
       "year            float64\n",
       "manufacturer     object\n",
       "model            object\n",
       "condition        object\n",
       "cylinders        object\n",
       "fuel             object\n",
       "odometer        float64\n",
       "title_status     object\n",
       "transmission     object\n",
       "VIN              object\n",
       "drive            object\n",
       "size             object\n",
       "type             object\n",
       "paint_color      object\n",
       "image_url        object\n",
       "description      object\n",
       "state            object\n",
       "lat             float64\n",
       "long            float64\n",
       "posting_date     object\n",
       "dtype: object"
      ]
     },
     "execution_count": 7,
     "metadata": {},
     "output_type": "execute_result"
    }
   ],
   "source": [
    "org_df.dtypes"
   ]
  },
  {
   "cell_type": "markdown",
   "metadata": {},
   "source": [
    "### Let's drop column that we will not be using"
   ]
  },
  {
   "cell_type": "code",
   "execution_count": 8,
   "metadata": {},
   "outputs": [],
   "source": [
    "# dropping columns which are not directly correlated to the target variable\n",
    "df_sel = org_df.drop(columns=['url', 'id','image_url', 'description', 'region_url', 'VIN'])"
   ]
  },
  {
   "cell_type": "markdown",
   "metadata": {},
   "source": [
    "### Convert posting date to date time"
   ]
  },
  {
   "cell_type": "code",
   "execution_count": 9,
   "metadata": {},
   "outputs": [],
   "source": [
    "df_sel[\"posting_date\"]=pd.to_datetime(df_sel.posting_date, utc=True)"
   ]
  },
  {
   "cell_type": "markdown",
   "metadata": {},
   "source": [
    "### Rename size column name to avoid keyword issue"
   ]
  },
  {
   "cell_type": "code",
   "execution_count": 10,
   "metadata": {},
   "outputs": [],
   "source": [
    "df_sel.rename(columns={\"size\":\"size_\"}, inplace=True)"
   ]
  },
  {
   "cell_type": "code",
   "execution_count": 11,
   "metadata": {},
   "outputs": [
    {
     "data": {
      "text/html": [
       "<div>\n",
       "<style scoped>\n",
       "    .dataframe tbody tr th:only-of-type {\n",
       "        vertical-align: middle;\n",
       "    }\n",
       "\n",
       "    .dataframe tbody tr th {\n",
       "        vertical-align: top;\n",
       "    }\n",
       "\n",
       "    .dataframe thead th {\n",
       "        text-align: right;\n",
       "    }\n",
       "</style>\n",
       "<table border=\"1\" class=\"dataframe\">\n",
       "  <thead>\n",
       "    <tr style=\"text-align: right;\">\n",
       "      <th></th>\n",
       "      <th>region</th>\n",
       "      <th>price</th>\n",
       "      <th>year</th>\n",
       "      <th>manufacturer</th>\n",
       "      <th>model</th>\n",
       "      <th>condition</th>\n",
       "      <th>cylinders</th>\n",
       "      <th>fuel</th>\n",
       "      <th>odometer</th>\n",
       "      <th>title_status</th>\n",
       "      <th>transmission</th>\n",
       "      <th>drive</th>\n",
       "      <th>size_</th>\n",
       "      <th>type</th>\n",
       "      <th>paint_color</th>\n",
       "      <th>state</th>\n",
       "      <th>lat</th>\n",
       "      <th>long</th>\n",
       "      <th>posting_date</th>\n",
       "    </tr>\n",
       "  </thead>\n",
       "  <tbody>\n",
       "    <tr>\n",
       "      <th>0</th>\n",
       "      <td>auburn</td>\n",
       "      <td>35990</td>\n",
       "      <td>2010.0</td>\n",
       "      <td>chevrolet</td>\n",
       "      <td>corvette grand sport</td>\n",
       "      <td>good</td>\n",
       "      <td>8 cylinders</td>\n",
       "      <td>gas</td>\n",
       "      <td>32742.0</td>\n",
       "      <td>clean</td>\n",
       "      <td>other</td>\n",
       "      <td>rwd</td>\n",
       "      <td>NaN</td>\n",
       "      <td>other</td>\n",
       "      <td>NaN</td>\n",
       "      <td>al</td>\n",
       "      <td>32.590000</td>\n",
       "      <td>-85.480000</td>\n",
       "      <td>2020-12-02 14:11:30+00:00</td>\n",
       "    </tr>\n",
       "    <tr>\n",
       "      <th>1</th>\n",
       "      <td>auburn</td>\n",
       "      <td>7500</td>\n",
       "      <td>2014.0</td>\n",
       "      <td>hyundai</td>\n",
       "      <td>sonata</td>\n",
       "      <td>excellent</td>\n",
       "      <td>4 cylinders</td>\n",
       "      <td>gas</td>\n",
       "      <td>93600.0</td>\n",
       "      <td>clean</td>\n",
       "      <td>automatic</td>\n",
       "      <td>fwd</td>\n",
       "      <td>NaN</td>\n",
       "      <td>sedan</td>\n",
       "      <td>NaN</td>\n",
       "      <td>al</td>\n",
       "      <td>32.547500</td>\n",
       "      <td>-85.468200</td>\n",
       "      <td>2020-12-02 08:11:50+00:00</td>\n",
       "    </tr>\n",
       "    <tr>\n",
       "      <th>2</th>\n",
       "      <td>auburn</td>\n",
       "      <td>4900</td>\n",
       "      <td>2006.0</td>\n",
       "      <td>bmw</td>\n",
       "      <td>x3 3.0i</td>\n",
       "      <td>good</td>\n",
       "      <td>6 cylinders</td>\n",
       "      <td>gas</td>\n",
       "      <td>87046.0</td>\n",
       "      <td>clean</td>\n",
       "      <td>automatic</td>\n",
       "      <td>NaN</td>\n",
       "      <td>NaN</td>\n",
       "      <td>SUV</td>\n",
       "      <td>blue</td>\n",
       "      <td>al</td>\n",
       "      <td>32.616807</td>\n",
       "      <td>-85.464149</td>\n",
       "      <td>2020-12-02 01:50:41+00:00</td>\n",
       "    </tr>\n",
       "    <tr>\n",
       "      <th>3</th>\n",
       "      <td>auburn</td>\n",
       "      <td>2000</td>\n",
       "      <td>1974.0</td>\n",
       "      <td>chevrolet</td>\n",
       "      <td>c-10</td>\n",
       "      <td>good</td>\n",
       "      <td>4 cylinders</td>\n",
       "      <td>gas</td>\n",
       "      <td>190000.0</td>\n",
       "      <td>clean</td>\n",
       "      <td>automatic</td>\n",
       "      <td>rwd</td>\n",
       "      <td>full-size</td>\n",
       "      <td>pickup</td>\n",
       "      <td>blue</td>\n",
       "      <td>al</td>\n",
       "      <td>32.861600</td>\n",
       "      <td>-85.216100</td>\n",
       "      <td>2020-12-01 21:54:45+00:00</td>\n",
       "    </tr>\n",
       "    <tr>\n",
       "      <th>4</th>\n",
       "      <td>auburn</td>\n",
       "      <td>19500</td>\n",
       "      <td>2005.0</td>\n",
       "      <td>ford</td>\n",
       "      <td>f350 lariat</td>\n",
       "      <td>excellent</td>\n",
       "      <td>8 cylinders</td>\n",
       "      <td>diesel</td>\n",
       "      <td>116000.0</td>\n",
       "      <td>lien</td>\n",
       "      <td>automatic</td>\n",
       "      <td>4wd</td>\n",
       "      <td>full-size</td>\n",
       "      <td>pickup</td>\n",
       "      <td>blue</td>\n",
       "      <td>al</td>\n",
       "      <td>32.547500</td>\n",
       "      <td>-85.468200</td>\n",
       "      <td>2020-12-01 18:53:56+00:00</td>\n",
       "    </tr>\n",
       "  </tbody>\n",
       "</table>\n",
       "</div>"
      ],
      "text/plain": [
       "   region  price    year manufacturer                 model  condition  \\\n",
       "0  auburn  35990  2010.0    chevrolet  corvette grand sport       good   \n",
       "1  auburn   7500  2014.0      hyundai                sonata  excellent   \n",
       "2  auburn   4900  2006.0          bmw               x3 3.0i       good   \n",
       "3  auburn   2000  1974.0    chevrolet                  c-10       good   \n",
       "4  auburn  19500  2005.0         ford           f350 lariat  excellent   \n",
       "\n",
       "     cylinders    fuel  odometer title_status transmission drive      size_  \\\n",
       "0  8 cylinders     gas   32742.0        clean        other   rwd        NaN   \n",
       "1  4 cylinders     gas   93600.0        clean    automatic   fwd        NaN   \n",
       "2  6 cylinders     gas   87046.0        clean    automatic   NaN        NaN   \n",
       "3  4 cylinders     gas  190000.0        clean    automatic   rwd  full-size   \n",
       "4  8 cylinders  diesel  116000.0         lien    automatic   4wd  full-size   \n",
       "\n",
       "     type paint_color state        lat       long              posting_date  \n",
       "0   other         NaN    al  32.590000 -85.480000 2020-12-02 14:11:30+00:00  \n",
       "1   sedan         NaN    al  32.547500 -85.468200 2020-12-02 08:11:50+00:00  \n",
       "2     SUV        blue    al  32.616807 -85.464149 2020-12-02 01:50:41+00:00  \n",
       "3  pickup        blue    al  32.861600 -85.216100 2020-12-01 21:54:45+00:00  \n",
       "4  pickup        blue    al  32.547500 -85.468200 2020-12-01 18:53:56+00:00  "
      ]
     },
     "execution_count": 11,
     "metadata": {},
     "output_type": "execute_result"
    }
   ],
   "source": [
    "df_sel.head()"
   ]
  },
  {
   "cell_type": "markdown",
   "metadata": {},
   "source": [
    "### Distribution and outlier for years"
   ]
  },
  {
   "cell_type": "code",
   "execution_count": 12,
   "metadata": {},
   "outputs": [
    {
     "data": {
      "text/plain": [
       "count    457163.000000\n",
       "mean       2010.746067\n",
       "std           8.868136\n",
       "min        1900.000000\n",
       "25%        2008.000000\n",
       "50%        2013.000000\n",
       "75%        2016.000000\n",
       "max        2021.000000\n",
       "Name: year, dtype: float64"
      ]
     },
     "execution_count": 12,
     "metadata": {},
     "output_type": "execute_result"
    }
   ],
   "source": [
    "df_sel.year.describe()"
   ]
  },
  {
   "cell_type": "code",
   "execution_count": 13,
   "metadata": {},
   "outputs": [
    {
     "data": {
      "image/png": "[encoded data removed]",
      "text/plain": [
       "<Figure size 1152x576 with 1 Axes>"
      ]
     },
     "metadata": {},
     "output_type": "display_data"
    }
   ],
   "source": [
    "sns.displot(x=df_sel.year, kde=True, height=8, aspect=2 )\n",
    "plt.show()"
   ]
  },
  {
   "cell_type": "markdown",
   "metadata": {},
   "source": [
    "### Drop Records older than year 1995 and newer than 2020"
   ]
  },
  {
   "cell_type": "code",
   "execution_count": 14,
   "metadata": {},
   "outputs": [],
   "source": [
    "df_sel = df_sel[(df_sel.year>1994) & (df_sel.year<2021)]"
   ]
  },
  {
   "cell_type": "code",
   "execution_count": 15,
   "metadata": {},
   "outputs": [
    {
     "data": {
      "text/plain": [
       "count    440927.000000\n",
       "mean       2011.939500\n",
       "std           5.371592\n",
       "min        1995.000000\n",
       "25%        2008.000000\n",
       "50%        2013.000000\n",
       "75%        2016.000000\n",
       "max        2020.000000\n",
       "Name: year, dtype: float64"
      ]
     },
     "execution_count": 15,
     "metadata": {},
     "output_type": "execute_result"
    }
   ],
   "source": [
    "df_sel.year.describe()"
   ]
  },
  {
   "cell_type": "code",
   "execution_count": 16,
   "metadata": {},
   "outputs": [
    {
     "data": {
      "image/png": "[encoded data removed]",
      "text/plain": [
       "<Figure size 1152x576 with 1 Axes>"
      ]
     },
     "metadata": {},
     "output_type": "display_data"
    }
   ],
   "source": [
    "sns.displot(x=df_sel.year, kde=True, height=8, aspect=2 )\n",
    "plt.show()"
   ]
  },
  {
   "cell_type": "markdown",
   "metadata": {},
   "source": [
    "### Distribution and outlier for odometer"
   ]
  },
  {
   "cell_type": "code",
   "execution_count": 17,
   "metadata": {},
   "outputs": [
    {
     "data": {
      "text/plain": [
       "count    3.915190e+05\n",
       "mean     1.012058e+05\n",
       "std      3.274094e+06\n",
       "min      0.000000e+00\n",
       "25%      4.125700e+04\n",
       "50%      8.803500e+04\n",
       "75%      1.342700e+05\n",
       "max      2.043756e+09\n",
       "Name: odometer, dtype: float64"
      ]
     },
     "execution_count": 17,
     "metadata": {},
     "output_type": "execute_result"
    }
   ],
   "source": [
    "df_sel.odometer.describe()"
   ]
  },
  {
   "cell_type": "code",
   "execution_count": 18,
   "metadata": {},
   "outputs": [
    {
     "data": {
      "image/png": "[encoded data removed]",
      "text/plain": [
       "<Figure size 1152x576 with 1 Axes>"
      ]
     },
     "metadata": {},
     "output_type": "display_data"
    }
   ],
   "source": [
    "sns.displot(x=df_sel.odometer, kde=True, rug=True, height=8, bins=500, aspect=2 )\n",
    "plt.show()"
   ]
  },
  {
   "cell_type": "markdown",
   "metadata": {},
   "source": [
    "### Drop records with odometer greater than 200000"
   ]
  },
  {
   "cell_type": "code",
   "execution_count": 19,
   "metadata": {},
   "outputs": [],
   "source": [
    "df_sel = df_sel[df_sel.odometer<200000]"
   ]
  },
  {
   "cell_type": "code",
   "execution_count": 20,
   "metadata": {},
   "outputs": [
    {
     "data": {
      "text/plain": [
       "count    369951.000000\n",
       "mean      85051.851086\n",
       "std       52370.899858\n",
       "min           0.000000\n",
       "25%       39171.500000\n",
       "50%       83000.000000\n",
       "75%      125607.000000\n",
       "max      199999.000000\n",
       "Name: odometer, dtype: float64"
      ]
     },
     "execution_count": 20,
     "metadata": {},
     "output_type": "execute_result"
    }
   ],
   "source": [
    "df_sel.odometer.describe()"
   ]
  },
  {
   "cell_type": "code",
   "execution_count": 21,
   "metadata": {},
   "outputs": [
    {
     "data": {
      "image/png": "[encoded data removed]",
      "text/plain": [
       "<Figure size 1152x576 with 1 Axes>"
      ]
     },
     "metadata": {},
     "output_type": "display_data"
    }
   ],
   "source": [
    "sns.displot(x=df_sel.odometer, kde=True, rug=True, height=8, bins=500, aspect=2 )\n",
    "plt.show()"
   ]
  },
  {
   "cell_type": "markdown",
   "metadata": {},
   "source": [
    "### Distribution and outlier for price"
   ]
  },
  {
   "cell_type": "code",
   "execution_count": 22,
   "metadata": {},
   "outputs": [
    {
     "data": {
      "text/plain": [
       "count    3.699510e+05\n",
       "mean     2.639712e+04\n",
       "std      5.949605e+06\n",
       "min      0.000000e+00\n",
       "25%      5.900000e+03\n",
       "50%      1.250000e+04\n",
       "75%      2.299500e+04\n",
       "max      3.615215e+09\n",
       "Name: price, dtype: float64"
      ]
     },
     "execution_count": 22,
     "metadata": {},
     "output_type": "execute_result"
    }
   ],
   "source": [
    "df_sel.price.describe()"
   ]
  },
  {
   "cell_type": "code",
   "execution_count": 23,
   "metadata": {},
   "outputs": [
    {
     "data": {
      "image/png": "[encoded data removed]",
      "text/plain": [
       "<Figure size 1152x576 with 1 Axes>"
      ]
     },
     "metadata": {},
     "output_type": "display_data"
    }
   ],
   "source": [
    "sns.displot(x=df_sel.price, kde=True, rug=True, height=8, bins=50, aspect=2 )\n",
    "plt.show()"
   ]
  },
  {
   "cell_type": "markdown",
   "metadata": {},
   "source": [
    "### Drop records with price greater than 300000"
   ]
  },
  {
   "cell_type": "code",
   "execution_count": 24,
   "metadata": {},
   "outputs": [],
   "source": [
    "df_sel = df_sel[df_sel.price<300001]"
   ]
  },
  {
   "cell_type": "code",
   "execution_count": 25,
   "metadata": {},
   "outputs": [
    {
     "data": {
      "text/plain": [
       "count    369930.000000\n",
       "mean      15866.009134\n",
       "std       14125.215160\n",
       "min           0.000000\n",
       "25%        5900.000000\n",
       "50%       12500.000000\n",
       "75%       22995.000000\n",
       "max      299988.000000\n",
       "Name: price, dtype: float64"
      ]
     },
     "execution_count": 25,
     "metadata": {},
     "output_type": "execute_result"
    }
   ],
   "source": [
    "df_sel.price.describe()"
   ]
  },
  {
   "cell_type": "code",
   "execution_count": 26,
   "metadata": {},
   "outputs": [
    {
     "data": {
      "image/png": "[encoded data removed]",
      "text/plain": [
       "<Figure size 1152x576 with 1 Axes>"
      ]
     },
     "metadata": {},
     "output_type": "display_data"
    }
   ],
   "source": [
    "sns.displot(x=df_sel.price, kde=True, rug=True, height=8, bins=50, aspect=2 )\n",
    "plt.show()"
   ]
  },
  {
   "cell_type": "markdown",
   "metadata": {},
   "source": [
    "### Convert variables to appropriate data types"
   ]
  },
  {
   "cell_type": "markdown",
   "metadata": {},
   "source": [
    "### Replace unknown and blank cylinder values with None"
   ]
  },
  {
   "cell_type": "code",
   "execution_count": 27,
   "metadata": {},
   "outputs": [],
   "source": [
    "def replace_cylinders(x):\n",
    "    \n",
    "    if x == None or x.strip() == \"\" or x.strip() == \"other\":\n",
    "        return None\n",
    "    else: \n",
    "        return x.replace(\" cylinders\", \"\").strip()\n",
    "\n",
    "### Need to replace \"other\" to something else from Cylinders\n",
    "#df_sel.cylinders = df_sel.cylinders.apply(lambda x : replace_cylinders(x))"
   ]
  },
  {
   "cell_type": "markdown",
   "metadata": {},
   "source": [
    "### Find Missing Values"
   ]
  },
  {
   "cell_type": "code",
   "execution_count": 28,
   "metadata": {},
   "outputs": [
    {
     "data": {
      "text/plain": [
       "region               0\n",
       "price                0\n",
       "year                 0\n",
       "manufacturer      9556\n",
       "model             2202\n",
       "condition       149311\n",
       "cylinders            0\n",
       "fuel              2312\n",
       "odometer             0\n",
       "title_status      1615\n",
       "transmission      1608\n",
       "drive            90939\n",
       "size_           257084\n",
       "type             66481\n",
       "paint_color      95253\n",
       "state                0\n",
       "lat               6846\n",
       "long              6846\n",
       "posting_date         0\n",
       "dtype: int64"
      ]
     },
     "execution_count": 28,
     "metadata": {},
     "output_type": "execute_result"
    }
   ],
   "source": [
    "df_sel.isnull().sum()"
   ]
  },
  {
   "cell_type": "code",
   "execution_count": 29,
   "metadata": {},
   "outputs": [
    {
     "data": {
      "text/plain": [
       "<AxesSubplot:>"
      ]
     },
     "execution_count": 29,
     "metadata": {},
     "output_type": "execute_result"
    },
    {
     "data": {
      "image/png": "[encoded data removed]",
      "text/plain": [
       "<Figure size 1584x1080 with 2 Axes>"
      ]
     },
     "metadata": {},
     "output_type": "display_data"
    }
   ],
   "source": [
    "fig, ax =plt.subplots(1,figsize=(22, 15))\n",
    "sns.heatmap(df_sel.isnull(), cmap=\"Dark2\")"
   ]
  },
  {
   "cell_type": "code",
   "execution_count": 30,
   "metadata": {},
   "outputs": [],
   "source": [
    "num_attr = [\"year\", \"odometer\", \"lat\", \"long\"]\n",
    "cat_attr = [\"region\", \"manufacturer\", \"model\", \"condition\", \"cylinders\", \"fuel\", \"title_status\", \"transmission\", \"drive\", \"size_\", \"paint_color\", \"state\", \"type\"]"
   ]
  },
  {
   "cell_type": "markdown",
   "metadata": {},
   "source": [
    "### Fill missing values wiht Imputers"
   ]
  },
  {
   "cell_type": "markdown",
   "metadata": {},
   "source": [
    "#### Convert categorical features to numeric using Label Encoder"
   ]
  },
  {
   "cell_type": "code",
   "execution_count": 31,
   "metadata": {},
   "outputs": [
    {
     "name": "stderr",
     "output_type": "stream",
     "text": [
      "/home/sanjay/anaconda3/lib/python3.8/site-packages/sklearn/utils/validation.py:72: DataConversionWarning: A column-vector y was passed when a 1d array was expected. Please change the shape of y to (n_samples, ), for example using ravel().\n",
      "  return f(**kwargs)\n",
      "/home/sanjay/anaconda3/lib/python3.8/site-packages/pandas/core/indexing.py:1636: SettingWithCopyWarning: \n",
      "A value is trying to be set on a copy of a slice from a DataFrame\n",
      "\n",
      "See the caveats in the documentation: https://pandas.pydata.org/pandas-docs/stable/user_guide/indexing.html#returning-a-view-versus-a-copy\n",
      "  self._setitem_single_block(indexer, value, name)\n"
     ]
    }
   ],
   "source": [
    "# move target variable to last\n",
    "price_col = df_sel.price\n",
    "df_sel = df_sel.drop(columns=[\"price\"])\n",
    "df_sel[\"price\"] = price_col\n",
    "\n",
    "# Copy Data frame for Imputaion estimation\n",
    "df_imputer = df_sel.copy()\n",
    "label_encoder = LabelEncoder()\n",
    "def labelEncode(catFeature):\n",
    "    nonulls = np.array(catFeature.dropna())\n",
    "    impute_reshape = nonulls.reshape(-1,1)\n",
    "    impute_ordinal = label_encoder.fit_transform(impute_reshape)\n",
    "    catFeature.loc[catFeature.notnull()] = np.squeeze(impute_ordinal)\n",
    "    return catFeature\n",
    "\n",
    "for catFeature in cat_attr:\n",
    "    labelEncode(df_imputer[catFeature])\n",
    "    "
   ]
  },
  {
   "cell_type": "code",
   "execution_count": 32,
   "metadata": {
    "scrolled": true
   },
   "outputs": [
    {
     "data": {
      "text/html": [
       "<div>\n",
       "<style scoped>\n",
       "    .dataframe tbody tr th:only-of-type {\n",
       "        vertical-align: middle;\n",
       "    }\n",
       "\n",
       "    .dataframe tbody tr th {\n",
       "        vertical-align: top;\n",
       "    }\n",
       "\n",
       "    .dataframe thead th {\n",
       "        text-align: right;\n",
       "    }\n",
       "</style>\n",
       "<table border=\"1\" class=\"dataframe\">\n",
       "  <thead>\n",
       "    <tr style=\"text-align: right;\">\n",
       "      <th></th>\n",
       "      <th>region</th>\n",
       "      <th>year</th>\n",
       "      <th>manufacturer</th>\n",
       "      <th>model</th>\n",
       "      <th>condition</th>\n",
       "      <th>cylinders</th>\n",
       "      <th>fuel</th>\n",
       "      <th>odometer</th>\n",
       "      <th>title_status</th>\n",
       "      <th>transmission</th>\n",
       "      <th>drive</th>\n",
       "      <th>size_</th>\n",
       "      <th>type</th>\n",
       "      <th>paint_color</th>\n",
       "      <th>state</th>\n",
       "      <th>lat</th>\n",
       "      <th>long</th>\n",
       "      <th>posting_date</th>\n",
       "      <th>price</th>\n",
       "    </tr>\n",
       "  </thead>\n",
       "  <tbody>\n",
       "    <tr>\n",
       "      <th>0</th>\n",
       "      <td>16</td>\n",
       "      <td>2010.0</td>\n",
       "      <td>7</td>\n",
       "      <td>8197</td>\n",
       "      <td>2</td>\n",
       "      <td>7</td>\n",
       "      <td>2</td>\n",
       "      <td>32742.0</td>\n",
       "      <td>0</td>\n",
       "      <td>2</td>\n",
       "      <td>2</td>\n",
       "      <td>NaN</td>\n",
       "      <td>7</td>\n",
       "      <td>NaN</td>\n",
       "      <td>1</td>\n",
       "      <td>32.590000</td>\n",
       "      <td>-85.480000</td>\n",
       "      <td>2020-12-02 14:11:30+00:00</td>\n",
       "      <td>35990</td>\n",
       "    </tr>\n",
       "    <tr>\n",
       "      <th>1</th>\n",
       "      <td>16</td>\n",
       "      <td>2014.0</td>\n",
       "      <td>17</td>\n",
       "      <td>20422</td>\n",
       "      <td>0</td>\n",
       "      <td>4</td>\n",
       "      <td>2</td>\n",
       "      <td>93600.0</td>\n",
       "      <td>0</td>\n",
       "      <td>0</td>\n",
       "      <td>1</td>\n",
       "      <td>NaN</td>\n",
       "      <td>9</td>\n",
       "      <td>NaN</td>\n",
       "      <td>1</td>\n",
       "      <td>32.547500</td>\n",
       "      <td>-85.468200</td>\n",
       "      <td>2020-12-02 08:11:50+00:00</td>\n",
       "      <td>7500</td>\n",
       "    </tr>\n",
       "    <tr>\n",
       "      <th>2</th>\n",
       "      <td>16</td>\n",
       "      <td>2006.0</td>\n",
       "      <td>4</td>\n",
       "      <td>23288</td>\n",
       "      <td>2</td>\n",
       "      <td>6</td>\n",
       "      <td>2</td>\n",
       "      <td>87046.0</td>\n",
       "      <td>0</td>\n",
       "      <td>0</td>\n",
       "      <td>NaN</td>\n",
       "      <td>NaN</td>\n",
       "      <td>0</td>\n",
       "      <td>1</td>\n",
       "      <td>1</td>\n",
       "      <td>32.616807</td>\n",
       "      <td>-85.464149</td>\n",
       "      <td>2020-12-02 01:50:41+00:00</td>\n",
       "      <td>4900</td>\n",
       "    </tr>\n",
       "    <tr>\n",
       "      <th>4</th>\n",
       "      <td>16</td>\n",
       "      <td>2005.0</td>\n",
       "      <td>12</td>\n",
       "      <td>11904</td>\n",
       "      <td>0</td>\n",
       "      <td>7</td>\n",
       "      <td>0</td>\n",
       "      <td>116000.0</td>\n",
       "      <td>1</td>\n",
       "      <td>0</td>\n",
       "      <td>0</td>\n",
       "      <td>1</td>\n",
       "      <td>8</td>\n",
       "      <td>1</td>\n",
       "      <td>1</td>\n",
       "      <td>32.547500</td>\n",
       "      <td>-85.468200</td>\n",
       "      <td>2020-12-01 18:53:56+00:00</td>\n",
       "      <td>19500</td>\n",
       "    </tr>\n",
       "    <tr>\n",
       "      <th>5</th>\n",
       "      <td>16</td>\n",
       "      <td>2016.0</td>\n",
       "      <td>39</td>\n",
       "      <td>21271</td>\n",
       "      <td>2</td>\n",
       "      <td>6</td>\n",
       "      <td>2</td>\n",
       "      <td>33290.0</td>\n",
       "      <td>0</td>\n",
       "      <td>2</td>\n",
       "      <td>NaN</td>\n",
       "      <td>NaN</td>\n",
       "      <td>8</td>\n",
       "      <td>8</td>\n",
       "      <td>1</td>\n",
       "      <td>32.590000</td>\n",
       "      <td>-85.480000</td>\n",
       "      <td>2020-12-01 13:27:25+00:00</td>\n",
       "      <td>29590</td>\n",
       "    </tr>\n",
       "  </tbody>\n",
       "</table>\n",
       "</div>"
      ],
      "text/plain": [
       "   region    year manufacturer  model condition  cylinders fuel  odometer  \\\n",
       "0      16  2010.0            7   8197         2          7    2   32742.0   \n",
       "1      16  2014.0           17  20422         0          4    2   93600.0   \n",
       "2      16  2006.0            4  23288         2          6    2   87046.0   \n",
       "4      16  2005.0           12  11904         0          7    0  116000.0   \n",
       "5      16  2016.0           39  21271         2          6    2   33290.0   \n",
       "\n",
       "  title_status transmission drive size_ type paint_color  state        lat  \\\n",
       "0            0            2     2   NaN    7         NaN      1  32.590000   \n",
       "1            0            0     1   NaN    9         NaN      1  32.547500   \n",
       "2            0            0   NaN   NaN    0           1      1  32.616807   \n",
       "4            1            0     0     1    8           1      1  32.547500   \n",
       "5            0            2   NaN   NaN    8           8      1  32.590000   \n",
       "\n",
       "        long              posting_date  price  \n",
       "0 -85.480000 2020-12-02 14:11:30+00:00  35990  \n",
       "1 -85.468200 2020-12-02 08:11:50+00:00   7500  \n",
       "2 -85.464149 2020-12-02 01:50:41+00:00   4900  \n",
       "4 -85.468200 2020-12-01 18:53:56+00:00  19500  \n",
       "5 -85.480000 2020-12-01 13:27:25+00:00  29590  "
      ]
     },
     "execution_count": 32,
     "metadata": {},
     "output_type": "execute_result"
    }
   ],
   "source": [
    "df_imputer.head()"
   ]
  },
  {
   "cell_type": "code",
   "execution_count": 33,
   "metadata": {},
   "outputs": [
    {
     "data": {
      "text/plain": [
       "Index(['region', 'year', 'manufacturer', 'model', 'condition', 'cylinders',\n",
       "       'fuel', 'odometer', 'title_status', 'transmission', 'drive', 'size_',\n",
       "       'type', 'paint_color', 'state', 'lat', 'long', 'price'],\n",
       "      dtype='object')"
      ]
     },
     "execution_count": 33,
     "metadata": {},
     "output_type": "execute_result"
    }
   ],
   "source": [
    "drop_cols = []\n",
    "drop_cols.append(\"posting_date\")\n",
    "#drop_cat.extend(num_attr)\n",
    "#print(drop_cat)\n",
    "df_imputer = df_imputer.drop(columns=drop_cols)\n",
    "\n",
    "df_imputer.columns"
   ]
  },
  {
   "cell_type": "markdown",
   "metadata": {},
   "source": [
    "### Find good estimator to fill missing values for categorical features"
   ]
  },
  {
   "cell_type": "markdown",
   "metadata": {},
   "source": [
    "#### Simple Imputer"
   ]
  },
  {
   "cell_type": "code",
   "execution_count": 34,
   "metadata": {},
   "outputs": [],
   "source": [
    "score_simple_imputer = pd.DataFrame() #dataframe to store error of imputer\n",
    "#computing MSE for mean and median\n",
    "for strategy in ('mean', 'median'):\n",
    "    X=df_imputer.iloc[:,:-1]\n",
    "        #y=check_imputer.iloc[:,-1:].values.ravel()\n",
    "    y = np.ravel(df_imputer.iloc[:,-1:])\n",
    "    estimator = make_pipeline(\n",
    "                    SimpleImputer(missing_values=np.NaN, strategy=strategy),\n",
    "                    BayesianRidge()\n",
    "                )\n",
    "    \n",
    "    score_simple_imputer[strategy] = cross_val_score(estimator, \n",
    "                                                     X, \n",
    "                                                     y, \n",
    "                                                     scoring='neg_mean_squared_error',\n",
    "                                                     cv=None\n",
    "                                     )\n"
   ]
  },
  {
   "cell_type": "markdown",
   "metadata": {},
   "source": [
    "#### Iterative Imputers"
   ]
  },
  {
   "cell_type": "code",
   "execution_count": 35,
   "metadata": {},
   "outputs": [
    {
     "name": "stdout",
     "output_type": "stream",
     "text": [
      "Estimating BayesianRidge\n",
      "Estimating DecisionTreeRegressor\n",
      "Estimating ExtraTreesRegressor\n",
      "Estimating KNeighborsRegressor\n",
      "Estimating Lasso\n"
     ]
    }
   ],
   "source": [
    "# Estimate the score on the entire dataset by filling missing values by different iterative imputer\n",
    "\n",
    "\n",
    "#estimators for IterativeImputer\n",
    "estimators = [\n",
    "    BayesianRidge(),\n",
    "    DecisionTreeRegressor(max_features='sqrt', random_state=random_state),\n",
    "    ExtraTreesRegressor(n_estimators=10, random_state=random_state, n_jobs=10),\n",
    "    KNeighborsRegressor(n_neighbors=10, n_jobs=10),\n",
    "    #SGDRegressor(random_state=random_state),\n",
    "    Lasso(random_state=random_state)\n",
    "]\n",
    "score_iterative_imputer = pd.DataFrame()\n",
    "for esti in estimators:\n",
    "        print(\"Estimating\",esti.__class__.__name__)\n",
    "        imputer = IterativeImputer(esti)\n",
    "        df_new=df_imputer.copy()\n",
    "        for col in df_imputer.columns:\n",
    "            #col=check_imputer.columns[i]\n",
    "            impute_data=imputer.fit_transform(df_new[col].values.reshape(-1,1))\n",
    "            impute_data=impute_data.astype('int64')\n",
    "            impute_data = pd.DataFrame(np.ravel(impute_data))\n",
    "            df_new[col]=impute_data\n",
    "            \n",
    "        X=df_new.iloc[:,:-1]\n",
    "        #y=check_imputer.iloc[:,-1:].values.ravel()\n",
    "        #print(X.isna().sum())\n",
    "        #print(df_imputer.iloc[:,-1:].isna().sum())\n",
    "        y = np.ravel(df_imputer.iloc[:,-1:])\n",
    "        \n",
    "        # Time being added this, need to investigate why imputer is returing columns with NaN\n",
    "        X = X.fillna(X.median()).clip(-1e11,1e11)\n",
    "        score_iterative_imputer[esti.__class__.__name__] = cross_val_score(esti,X,y,scoring='neg_mean_squared_error')"
   ]
  },
  {
   "cell_type": "code",
   "execution_count": 36,
   "metadata": {},
   "outputs": [
    {
     "data": {
      "image/png": "[encoded data removed]",
      "text/plain": [
       "<Figure size 1440x576 with 1 Axes>"
      ]
     },
     "metadata": {},
     "output_type": "display_data"
    },
    {
     "name": "stdout",
     "output_type": "stream",
     "text": [
      "\n",
      "\n",
      "Method with Minimum Error ('IterativeImputer', 'BayesianRidge')\n"
     ]
    }
   ],
   "source": [
    "#ploting the graphs of scores each method\n",
    "scores = pd.concat(\n",
    "    [score_simple_imputer, score_iterative_imputer],\n",
    "    keys=['SimpleImputer', 'IterativeImputer'], axis=1\n",
    ")\n",
    "fig, ax =plt.subplots(1,figsize=(20, 8))\n",
    "means = -scores.mean()\n",
    "errors = scores.std()\n",
    "means.plot(kind=\"bar\", yerr=errors)\n",
    "plt.xticks(rotation=30)\n",
    "plt.title(\"MSE with Different Imputation Methods\")\n",
    "plt.show()\n",
    "\n",
    "print(\"\\n\\nMethod with Minimum Error\", errors.idxmin())\n",
    "name = errors.idxmin()"
   ]
  },
  {
   "cell_type": "markdown",
   "metadata": {},
   "source": [
    "### Select Estimator for filling missing values"
   ]
  },
  {
   "cell_type": "code",
   "execution_count": 37,
   "metadata": {},
   "outputs": [
    {
     "name": "stdout",
     "output_type": "stream",
     "text": [
      "BayesianRidge()\n"
     ]
    }
   ],
   "source": [
    "selected_est =  estimators[0]\n",
    "print(selected_est)    "
   ]
  },
  {
   "cell_type": "markdown",
   "metadata": {},
   "source": [
    "### Fill missing values for Numerical Atrributes"
   ]
  },
  {
   "cell_type": "code",
   "execution_count": 38,
   "metadata": {},
   "outputs": [
    {
     "data": {
      "text/plain": [
       "year           0\n",
       "odometer       0\n",
       "lat         6846\n",
       "long        6846\n",
       "dtype: int64"
      ]
     },
     "execution_count": 38,
     "metadata": {},
     "output_type": "execute_result"
    }
   ],
   "source": [
    "df_sel.isnull().sum()[num_attr]"
   ]
  },
  {
   "cell_type": "code",
   "execution_count": 39,
   "metadata": {},
   "outputs": [],
   "source": [
    "df_num=df_sel[num_attr]\n",
    "imputer=IterativeImputer(selected_est) \n",
    "imputed_data=imputer.fit_transform(df_num)\n",
    "df_sel[num_attr]=imputed_data"
   ]
  },
  {
   "cell_type": "code",
   "execution_count": 40,
   "metadata": {},
   "outputs": [
    {
     "data": {
      "text/plain": [
       "year        0\n",
       "odometer    0\n",
       "lat         0\n",
       "long        0\n",
       "dtype: int64"
      ]
     },
     "execution_count": 40,
     "metadata": {},
     "output_type": "execute_result"
    }
   ],
   "source": [
    "df_sel.isnull().sum()[num_attr]"
   ]
  },
  {
   "cell_type": "markdown",
   "metadata": {},
   "source": [
    "### Fill missing values for Categorical Atrributes"
   ]
  },
  {
   "cell_type": "code",
   "execution_count": 41,
   "metadata": {},
   "outputs": [
    {
     "data": {
      "text/plain": [
       "region               0\n",
       "manufacturer      9556\n",
       "model             2202\n",
       "condition       149311\n",
       "cylinders            0\n",
       "fuel              2312\n",
       "title_status      1615\n",
       "transmission      1608\n",
       "drive            90939\n",
       "size_           257084\n",
       "paint_color      95253\n",
       "state                0\n",
       "type             66481\n",
       "dtype: int64"
      ]
     },
     "execution_count": 41,
     "metadata": {},
     "output_type": "execute_result"
    }
   ],
   "source": [
    "df_sel.isnull().sum()[cat_attr]"
   ]
  },
  {
   "cell_type": "code",
   "execution_count": 42,
   "metadata": {},
   "outputs": [
    {
     "name": "stderr",
     "output_type": "stream",
     "text": [
      "/home/sanjay/anaconda3/lib/python3.8/site-packages/sklearn/utils/validation.py:72: DataConversionWarning: A column-vector y was passed when a 1d array was expected. Please change the shape of y to (n_samples, ), for example using ravel().\n",
      "  return f(**kwargs)\n",
      "/home/sanjay/anaconda3/lib/python3.8/site-packages/pandas/core/indexing.py:1636: SettingWithCopyWarning: \n",
      "A value is trying to be set on a copy of a slice from a DataFrame\n",
      "\n",
      "See the caveats in the documentation: https://pandas.pydata.org/pandas-docs/stable/user_guide/indexing.html#returning-a-view-versus-a-copy\n",
      "  self._setitem_single_block(indexer, value, name)\n"
     ]
    }
   ],
   "source": [
    "# encode categorical columns to numbers\n",
    "for catFeature in cat_attr:\n",
    "    labelEncode(df_sel[catFeature])"
   ]
  },
  {
   "cell_type": "code",
   "execution_count": 43,
   "metadata": {},
   "outputs": [
    {
     "name": "stdout",
     "output_type": "stream",
     "text": [
      "Index(['region', 'year', 'manufacturer', 'model', 'condition', 'cylinders',\n",
      "       'fuel', 'odometer', 'title_status', 'transmission', 'drive', 'size_',\n",
      "       'type', 'paint_color', 'state', 'price'],\n",
      "      dtype='object')\n",
      "(78834, 16)\n",
      "Index(['year', 'manufacturer', 'model', 'condition', 'cylinders', 'fuel',\n",
      "       'odometer', 'transmission', 'drive', 'type', 'paint_color', 'state'],\n",
      "      dtype='object')\n",
      "(78834, 12)\n"
     ]
    }
   ],
   "source": [
    "from sklearn.feature_selection import SelectKBest\n",
    "from sklearn.feature_selection import chi2\n",
    "from sklearn.feature_selection import f_classif\n",
    "\n",
    "X=df_sel.drop(columns=[\"lat\", \"long\", \"posting_date\"])\n",
    "print(X.columns)\n",
    "for col in X.columns:\n",
    "    X=X[X[col] >=0]\n",
    "\n",
    "\n",
    "features_df=X.drop(columns=\"price\")\n",
    "print(X.shape)\n",
    "target = X.price\n",
    "#X_new = SelectKBest(chi2, k=15).fit_transform(X.iloc[:,:-1], X.price)\n",
    "\n",
    "# Create and fit selector\n",
    "selector = SelectKBest(f_classif, k=12)\n",
    "selector.fit(features_df, target)\n",
    "cols = selector.get_support(indices=True)\n",
    "features_df_new = features_df.iloc[:,cols]\n",
    "\n",
    "print(features_df_new.columns)\n",
    "print(features_df_new.shape)"
   ]
  },
  {
   "cell_type": "code",
   "execution_count": 84,
   "metadata": {},
   "outputs": [
    {
     "name": "stdout",
     "output_type": "stream",
     "text": [
      "[ 1.57710055 14.69364795  1.9922636   1.94646439  2.67718121  3.8094296\n",
      "  7.29536073  8.5901879   1.45338258  3.12447403  3.12177047  1.62509754\n",
      "  2.25258824  2.09341661  1.96301228]\n"
     ]
    },
    {
     "data": {
      "image/png": "[encoded data removed]",
      "text/plain": [
       "<Figure size 1440x576 with 1 Axes>"
      ]
     },
     "metadata": {},
     "output_type": "display_data"
    }
   ],
   "source": [
    "### P-Scores for columns\n",
    "print(selector.scores_)\n",
    "\n",
    "#X.columns[:-1]\n",
    "fig, ax =plt.subplots(1,figsize=(20, 8))\n",
    "sns.barplot(x=X.columns[:-1], y=selector.scores_)\n",
    "plt.xticks(rotation=30, fontsize=16)\n",
    "plt.xlabel(\"Features\", fontsize=16)\n",
    "plt.ylabel(\"p-score\", fontsize=16)\n",
    "plt.title(\"P Score for Features\", fontsize=18)\n",
    "plt.show()"
   ]
  },
  {
   "cell_type": "code",
   "execution_count": 45,
   "metadata": {},
   "outputs": [],
   "source": [
    "    \n",
    "# Fill missing values\n",
    "df_cat=df_sel[cat_attr]\n",
    "imputer=IterativeImputer(selected_est) \n",
    "imputed_data=imputer.fit_transform(df_cat)\n",
    "df_sel[cat_attr]=imputed_data"
   ]
  },
  {
   "cell_type": "code",
   "execution_count": 46,
   "metadata": {},
   "outputs": [
    {
     "data": {
      "text/plain": [
       "region          0\n",
       "manufacturer    0\n",
       "model           0\n",
       "condition       0\n",
       "cylinders       0\n",
       "fuel            0\n",
       "title_status    0\n",
       "transmission    0\n",
       "drive           0\n",
       "size_           0\n",
       "paint_color     0\n",
       "state           0\n",
       "type            0\n",
       "dtype: int64"
      ]
     },
     "execution_count": 46,
     "metadata": {},
     "output_type": "execute_result"
    }
   ],
   "source": [
    "df_sel.isnull().sum()[cat_attr]"
   ]
  },
  {
   "cell_type": "markdown",
   "metadata": {},
   "source": [
    "### Add age column from model year and posting date"
   ]
  },
  {
   "cell_type": "code",
   "execution_count": 47,
   "metadata": {},
   "outputs": [
    {
     "name": "stdout",
     "output_type": "stream",
     "text": [
      "datetime64[ns, UTC]\n"
     ]
    }
   ],
   "source": [
    "class AddAgeColumn(BaseEstimator, TransformerMixin):\n",
    "    def __init__(self, year_col_idx, posting_date_idx): # no *args or **kargs\n",
    "        self.year_col_idx = year_col_idx\n",
    "        self.posting_date_idx = posting_date_idx\n",
    "        \n",
    "    def fit(self, X, y=None):\n",
    "        return self  # nothing else to do\n",
    "    def transform(self, X):\n",
    "        inp = X.values\n",
    "        year = (inp[:, self.year_col_idx] - 1).astype(int).astype(str)\n",
    "        manu_year=np.char.add(year, \"/09/30\")\n",
    "        manu_date = pd.to_datetime(manu_year, format=\"%Y/%m/%d\", utc=True)\n",
    "        ser = pd.Series(inp[:, self.posting_date_idx])\n",
    "        print(ser.dtypes)\n",
    "        diff = pd.to_datetime(ser).subtract(manu_date)\n",
    "        return np.c_[(diff/np.timedelta64(1, 'M'))]\n",
    "\n",
    "attr_adder = AddAgeColumn(df_sel.columns.get_loc(\"year\"), df_sel.columns.get_loc(\"posting_date\"))\n",
    "age_col = attr_adder.transform(df_sel)"
   ]
  },
  {
   "cell_type": "code",
   "execution_count": 48,
   "metadata": {},
   "outputs": [
    {
     "data": {
      "text/html": [
       "<div>\n",
       "<style scoped>\n",
       "    .dataframe tbody tr th:only-of-type {\n",
       "        vertical-align: middle;\n",
       "    }\n",
       "\n",
       "    .dataframe tbody tr th {\n",
       "        vertical-align: top;\n",
       "    }\n",
       "\n",
       "    .dataframe thead th {\n",
       "        text-align: right;\n",
       "    }\n",
       "</style>\n",
       "<table border=\"1\" class=\"dataframe\">\n",
       "  <thead>\n",
       "    <tr style=\"text-align: right;\">\n",
       "      <th></th>\n",
       "      <th>region</th>\n",
       "      <th>year</th>\n",
       "      <th>manufacturer</th>\n",
       "      <th>model</th>\n",
       "      <th>condition</th>\n",
       "      <th>cylinders</th>\n",
       "      <th>fuel</th>\n",
       "      <th>odometer</th>\n",
       "      <th>title_status</th>\n",
       "      <th>transmission</th>\n",
       "      <th>drive</th>\n",
       "      <th>size_</th>\n",
       "      <th>type</th>\n",
       "      <th>paint_color</th>\n",
       "      <th>state</th>\n",
       "      <th>lat</th>\n",
       "      <th>long</th>\n",
       "      <th>posting_date</th>\n",
       "      <th>price</th>\n",
       "      <th>age_in_months</th>\n",
       "    </tr>\n",
       "  </thead>\n",
       "  <tbody>\n",
       "    <tr>\n",
       "      <th>0</th>\n",
       "      <td>16.0</td>\n",
       "      <td>2010.0</td>\n",
       "      <td>7.0</td>\n",
       "      <td>8197.0</td>\n",
       "      <td>2.0</td>\n",
       "      <td>7.0</td>\n",
       "      <td>2.0</td>\n",
       "      <td>32742.0</td>\n",
       "      <td>0.0</td>\n",
       "      <td>2.0</td>\n",
       "      <td>2.000000</td>\n",
       "      <td>1.004712</td>\n",
       "      <td>7.0</td>\n",
       "      <td>5.949909</td>\n",
       "      <td>1.0</td>\n",
       "      <td>32.590000</td>\n",
       "      <td>-85.480000</td>\n",
       "      <td>2020-12-02 14:11:30+00:00</td>\n",
       "      <td>35990</td>\n",
       "      <td>134.100210</td>\n",
       "    </tr>\n",
       "    <tr>\n",
       "      <th>1</th>\n",
       "      <td>16.0</td>\n",
       "      <td>2014.0</td>\n",
       "      <td>17.0</td>\n",
       "      <td>20422.0</td>\n",
       "      <td>0.0</td>\n",
       "      <td>4.0</td>\n",
       "      <td>2.0</td>\n",
       "      <td>93600.0</td>\n",
       "      <td>0.0</td>\n",
       "      <td>0.0</td>\n",
       "      <td>1.000000</td>\n",
       "      <td>1.139523</td>\n",
       "      <td>9.0</td>\n",
       "      <td>6.203254</td>\n",
       "      <td>1.0</td>\n",
       "      <td>32.547500</td>\n",
       "      <td>-85.468200</td>\n",
       "      <td>2020-12-02 08:11:50+00:00</td>\n",
       "      <td>7500</td>\n",
       "      <td>86.091018</td>\n",
       "    </tr>\n",
       "    <tr>\n",
       "      <th>2</th>\n",
       "      <td>16.0</td>\n",
       "      <td>2006.0</td>\n",
       "      <td>4.0</td>\n",
       "      <td>23288.0</td>\n",
       "      <td>2.0</td>\n",
       "      <td>6.0</td>\n",
       "      <td>2.0</td>\n",
       "      <td>87046.0</td>\n",
       "      <td>0.0</td>\n",
       "      <td>0.0</td>\n",
       "      <td>0.546871</td>\n",
       "      <td>1.288705</td>\n",
       "      <td>0.0</td>\n",
       "      <td>1.000000</td>\n",
       "      <td>1.0</td>\n",
       "      <td>32.616807</td>\n",
       "      <td>-85.464149</td>\n",
       "      <td>2020-12-02 01:50:41+00:00</td>\n",
       "      <td>4900</td>\n",
       "      <td>182.084293</td>\n",
       "    </tr>\n",
       "    <tr>\n",
       "      <th>4</th>\n",
       "      <td>16.0</td>\n",
       "      <td>2005.0</td>\n",
       "      <td>12.0</td>\n",
       "      <td>11904.0</td>\n",
       "      <td>0.0</td>\n",
       "      <td>7.0</td>\n",
       "      <td>0.0</td>\n",
       "      <td>116000.0</td>\n",
       "      <td>1.0</td>\n",
       "      <td>0.0</td>\n",
       "      <td>0.000000</td>\n",
       "      <td>1.000000</td>\n",
       "      <td>8.0</td>\n",
       "      <td>1.000000</td>\n",
       "      <td>1.0</td>\n",
       "      <td>32.547500</td>\n",
       "      <td>-85.468200</td>\n",
       "      <td>2020-12-01 18:53:56+00:00</td>\n",
       "      <td>19500</td>\n",
       "      <td>194.066817</td>\n",
       "    </tr>\n",
       "    <tr>\n",
       "      <th>5</th>\n",
       "      <td>16.0</td>\n",
       "      <td>2016.0</td>\n",
       "      <td>39.0</td>\n",
       "      <td>21271.0</td>\n",
       "      <td>2.0</td>\n",
       "      <td>6.0</td>\n",
       "      <td>2.0</td>\n",
       "      <td>33290.0</td>\n",
       "      <td>0.0</td>\n",
       "      <td>2.0</td>\n",
       "      <td>0.884381</td>\n",
       "      <td>0.937627</td>\n",
       "      <td>8.0</td>\n",
       "      <td>8.000000</td>\n",
       "      <td>1.0</td>\n",
       "      <td>32.590000</td>\n",
       "      <td>-85.480000</td>\n",
       "      <td>2020-12-01 13:27:25+00:00</td>\n",
       "      <td>29590</td>\n",
       "      <td>62.081298</td>\n",
       "    </tr>\n",
       "  </tbody>\n",
       "</table>\n",
       "</div>"
      ],
      "text/plain": [
       "   region    year  manufacturer    model  condition  cylinders  fuel  \\\n",
       "0    16.0  2010.0           7.0   8197.0        2.0        7.0   2.0   \n",
       "1    16.0  2014.0          17.0  20422.0        0.0        4.0   2.0   \n",
       "2    16.0  2006.0           4.0  23288.0        2.0        6.0   2.0   \n",
       "4    16.0  2005.0          12.0  11904.0        0.0        7.0   0.0   \n",
       "5    16.0  2016.0          39.0  21271.0        2.0        6.0   2.0   \n",
       "\n",
       "   odometer  title_status  transmission     drive     size_  type  \\\n",
       "0   32742.0           0.0           2.0  2.000000  1.004712   7.0   \n",
       "1   93600.0           0.0           0.0  1.000000  1.139523   9.0   \n",
       "2   87046.0           0.0           0.0  0.546871  1.288705   0.0   \n",
       "4  116000.0           1.0           0.0  0.000000  1.000000   8.0   \n",
       "5   33290.0           0.0           2.0  0.884381  0.937627   8.0   \n",
       "\n",
       "   paint_color  state        lat       long              posting_date  price  \\\n",
       "0     5.949909    1.0  32.590000 -85.480000 2020-12-02 14:11:30+00:00  35990   \n",
       "1     6.203254    1.0  32.547500 -85.468200 2020-12-02 08:11:50+00:00   7500   \n",
       "2     1.000000    1.0  32.616807 -85.464149 2020-12-02 01:50:41+00:00   4900   \n",
       "4     1.000000    1.0  32.547500 -85.468200 2020-12-01 18:53:56+00:00  19500   \n",
       "5     8.000000    1.0  32.590000 -85.480000 2020-12-01 13:27:25+00:00  29590   \n",
       "\n",
       "   age_in_months  \n",
       "0     134.100210  \n",
       "1      86.091018  \n",
       "2     182.084293  \n",
       "4     194.066817  \n",
       "5      62.081298  "
      ]
     },
     "execution_count": 48,
     "metadata": {},
     "output_type": "execute_result"
    }
   ],
   "source": [
    "df_sel[\"age_in_months\"] = age_col\n",
    "df_sel.head()"
   ]
  },
  {
   "cell_type": "markdown",
   "metadata": {},
   "source": [
    "### distribution plot for age in months"
   ]
  },
  {
   "cell_type": "code",
   "execution_count": 49,
   "metadata": {},
   "outputs": [
    {
     "data": {
      "image/png": "[encoded data removed]",
      "text/plain": [
       "<Figure size 1152x576 with 1 Axes>"
      ]
     },
     "metadata": {},
     "output_type": "display_data"
    }
   ],
   "source": [
    "sns.displot(x=df_sel.age_in_months.astype(int), kde=True, rug=True, height=8, bins=50, aspect=2 )\n",
    "plt.show()"
   ]
  },
  {
   "cell_type": "markdown",
   "metadata": {},
   "source": [
    "### Drop column posting date"
   ]
  },
  {
   "cell_type": "code",
   "execution_count": 50,
   "metadata": {},
   "outputs": [],
   "source": [
    "class DropColumns(BaseEstimator, TransformerMixin):\n",
    "    def __init__(self, attribute_name):\n",
    "        self.attribute_name = attribute_name\n",
    "    def fit(self, X, y=None):\n",
    "        return self\n",
    "    def transform(self, X):\n",
    "        return  X[[b for b in list(X.columns) if b != self.attribute_name]]\n",
    "        return X[self.attribute_names].values\n",
    "\n",
    "drop_col = DropColumns(\"posting_date\")\n",
    "df_sel = pd.DataFrame( drop_col.transform(df_sel))"
   ]
  },
  {
   "cell_type": "markdown",
   "metadata": {},
   "source": [
    "### Columns Selector"
   ]
  },
  {
   "cell_type": "code",
   "execution_count": 51,
   "metadata": {},
   "outputs": [],
   "source": [
    "class ColumnSelector(BaseEstimator, TransformerMixin):\n",
    "    def __init__(self, attribute_names):\n",
    "        self.attribute_names = attribute_names\n",
    "    def fit(self, X, y=None):\n",
    "        return self\n",
    "    def transform(self, X):\n",
    "        return X[self.attribute_names].values\n",
    "num_sel = ColumnSelector(num_attr)\n",
    "df_num_attrs = num_sel.transform(df_sel)"
   ]
  },
  {
   "cell_type": "code",
   "execution_count": 52,
   "metadata": {},
   "outputs": [],
   "source": [
    "old_cat_pipeline = Pipeline([\n",
    "        ('selector', ColumnSelector(cat_attr)),\n",
    "        ('cat_encoder', OneHotEncoder()),\n",
    "    ])\n",
    "cat_pre = old_cat_pipeline.fit_transform(df_sel)"
   ]
  },
  {
   "cell_type": "markdown",
   "metadata": {},
   "source": [
    "### Pipeline for outlier removal"
   ]
  },
  {
   "cell_type": "code",
   "execution_count": 53,
   "metadata": {},
   "outputs": [],
   "source": [
    "class OutlierExtraction(BaseEstimator, TransformerMixin):\n",
    "    def __init__(self, attrmap ):\n",
    "        self.attrmap = attrmap\n",
    "\n",
    "    def transform(self, X):\n",
    "        for attr in self.attrmap:\n",
    "            val = self.attrmap[attr]\n",
    "            min, max = X[attr].quantile([val[0], val[1]])\n",
    "            X = X[(X[attr]>=min) & (X[attr]<=max)]\n",
    "        return X\n",
    "\n",
    "    def fit(self, X, y = None):\n",
    "        return self\n",
    "    \n",
    "est = OutlierExtraction({\"price\":[0.15, 0.95], \"year\":[0.10, 0.999],\"odometer\":[0, 0.90]})\n",
    "test_df = est.fit_transform(org_df)"
   ]
  },
  {
   "cell_type": "code",
   "execution_count": 54,
   "metadata": {},
   "outputs": [
    {
     "data": {
      "text/plain": [
       "0.15     25737.0\n",
       "0.90    176779.0\n",
       "Name: odometer, dtype: float64"
      ]
     },
     "execution_count": 54,
     "metadata": {},
     "output_type": "execute_result"
    }
   ],
   "source": [
    "org_df.odometer.quantile([0.15, 0.90])\n"
   ]
  },
  {
   "cell_type": "code",
   "execution_count": 55,
   "metadata": {},
   "outputs": [
    {
     "data": {
      "text/plain": [
       "count    4.582130e+05\n",
       "mean     4.042093e+04\n",
       "std      8.194599e+06\n",
       "min      0.000000e+00\n",
       "25%      4.900000e+03\n",
       "50%      1.099500e+04\n",
       "75%      2.149500e+04\n",
       "max      3.615215e+09\n",
       "Name: price, dtype: float64"
      ]
     },
     "execution_count": 55,
     "metadata": {},
     "output_type": "execute_result"
    }
   ],
   "source": [
    "org_df.price.describe()"
   ]
  },
  {
   "cell_type": "markdown",
   "metadata": {},
   "source": [
    "### Pipeline for Numeric columns"
   ]
  },
  {
   "cell_type": "code",
   "execution_count": 56,
   "metadata": {},
   "outputs": [],
   "source": [
    "num_pipeline = Pipeline([('selector', ColumnSelector(num_attr)),\n",
    "                         ('imputer', IterativeImputer(BayesianRidge())),                           \n",
    "                         ('scaler', StandardScaler())])\n",
    "test = num_pipeline.fit_transform(org_df) "
   ]
  },
  {
   "cell_type": "code",
   "execution_count": 57,
   "metadata": {},
   "outputs": [
    {
     "name": "stdout",
     "output_type": "stream",
     "text": [
      "datetime64[ns, UTC]\n"
     ]
    }
   ],
   "source": [
    "est = OutlierExtraction({\"price\":[0.15, 0.95], \"year\":[0.10, 0.999],\"odometer\":[0, 0.90]})\n",
    "test_df = est.fit_transform(org_df)\n",
    "df_inp = pd.DataFrame(test_df)\n",
    "df_inp[\"posting_date\"]=pd.to_datetime(df_inp.posting_date, utc=True)\n",
    "add_age_pipeline = Pipeline([('add_age', AddAgeColumn(df_inp.columns.get_loc(\"year\"), df_inp.columns.get_loc(\"posting_date\"))),\n",
    "                     ('scaler', StandardScaler())])\n",
    "test_age = add_age_pipeline.fit_transform(df_inp)"
   ]
  },
  {
   "cell_type": "markdown",
   "metadata": {},
   "source": [
    "### Pipeline for Categorical Columns"
   ]
  },
  {
   "cell_type": "code",
   "execution_count": 58,
   "metadata": {},
   "outputs": [
    {
     "name": "stderr",
     "output_type": "stream",
     "text": [
      "/home/sanjay/anaconda3/lib/python3.8/site-packages/sklearn/utils/validation.py:72: DataConversionWarning: A column-vector y was passed when a 1d array was expected. Please change the shape of y to (n_samples, ), for example using ravel().\n",
      "  return f(**kwargs)\n"
     ]
    }
   ],
   "source": [
    "class CatLabelEncoder(BaseEstimator, TransformerMixin):\n",
    "    def __init__(self):\n",
    "        pass\n",
    "\n",
    "    def transform(self, X):\n",
    "        df = pd.DataFrame()\n",
    "        for attr in range(X.shape[1]): \n",
    "            col = pd.Series(X[:, attr])\n",
    "            cat_col = labelEncode(col)\n",
    "            df[attr] = cat_col.ravel()\n",
    "        return df.to_numpy()\n",
    "\n",
    "    def fit(self, X, y = None):\n",
    "        return self\n",
    "\n",
    "cat_attr = [\"region\", \"manufacturer\", \"model\", \"condition\", \"cylinders\", \"fuel\", \"title_status\", \"transmission\", \"drive\", \"size\", \"paint_color\", \"state\", \"type\"]\n",
    "cat_pipeline = Pipeline([('selector', ColumnSelector(cat_attr)), \n",
    "                         ('labelEncoder', CatLabelEncoder()),\n",
    "                        ('imputer', IterativeImputer(BayesianRidge()))])\n",
    "test_cat = cat_pipeline.fit_transform(org_df)"
   ]
  },
  {
   "cell_type": "code",
   "execution_count": 59,
   "metadata": {},
   "outputs": [
    {
     "name": "stderr",
     "output_type": "stream",
     "text": [
      "/home/sanjay/anaconda3/lib/python3.8/site-packages/sklearn/utils/validation.py:72: DataConversionWarning: A column-vector y was passed when a 1d array was expected. Please change the shape of y to (n_samples, ), for example using ravel().\n",
      "  return f(**kwargs)\n"
     ]
    }
   ],
   "source": [
    "cat_attr = [\"manufacturer\", \"model\", \"condition\", \"cylinders\", \"fuel\", \"transmission\", \"drive\", \"paint_color\", \"state\", \"type\"]\n",
    "cat_pipeline = Pipeline([('selector', ColumnSelector(cat_attr)),\n",
    "                         ('labelEncoder', CatLabelEncoder()),\n",
    "                        ('imputer', IterativeImputer(BayesianRidge())),\n",
    "                        ('onehotEncoding', OneHotEncoder())])\n",
    "test_cat = cat_pipeline.fit_transform(org_df)"
   ]
  },
  {
   "cell_type": "markdown",
   "metadata": {},
   "source": [
    "### Remove Outliers"
   ]
  },
  {
   "cell_type": "code",
   "execution_count": 60,
   "metadata": {},
   "outputs": [],
   "source": [
    "est = OutlierExtraction({\"price\":[0.15, 0.95], \"year\":[0.10, 0.999],\"odometer\":[0, 0.90]})\n",
    "test_df = est.fit_transform(org_df)\n",
    "df_inp = pd.DataFrame(test_df)\n",
    "# for converting to date time\n",
    "df_inp[\"posting_date\"]=pd.to_datetime(df_inp.posting_date, utc=True)\n"
   ]
  },
  {
   "cell_type": "markdown",
   "metadata": {},
   "source": [
    "### Full Pipeline"
   ]
  },
  {
   "cell_type": "code",
   "execution_count": 61,
   "metadata": {},
   "outputs": [
    {
     "name": "stderr",
     "output_type": "stream",
     "text": [
      "/home/sanjay/anaconda3/lib/python3.8/site-packages/sklearn/utils/validation.py:72: DataConversionWarning: A column-vector y was passed when a 1d array was expected. Please change the shape of y to (n_samples, ), for example using ravel().\n",
      "  return f(**kwargs)\n"
     ]
    },
    {
     "name": "stdout",
     "output_type": "stream",
     "text": [
      "datetime64[ns, UTC]\n"
     ]
    }
   ],
   "source": [
    "# Outlier removal\n",
    "full_pipeline = FeatureUnion(transformer_list=[\n",
    "        (\"cat_pipeline\", cat_pipeline),\n",
    "        (\"num_pipeline\", num_pipeline),\n",
    "        (\"add_age_col\", add_age_pipeline)\n",
    "    ])\n",
    "\n",
    "df_prepared = full_pipeline.fit_transform(df_inp)\n",
    "df_for_split = pd.DataFrame(df_prepared)\n",
    "df_for_split[\"price\"] = df_inp.price\n",
    "#test_prepared = full_pipeline.fit_transform(test_set)"
   ]
  },
  {
   "cell_type": "markdown",
   "metadata": {},
   "source": [
    "### Split dataset for training and testing"
   ]
  },
  {
   "cell_type": "code",
   "execution_count": 62,
   "metadata": {},
   "outputs": [],
   "source": [
    "train_set, test_set, train_y, test_y = train_test_split(df_prepared, df_inp.price, test_size=0.2, random_state=random_state)"
   ]
  },
  {
   "cell_type": "markdown",
   "metadata": {},
   "source": [
    "### Model"
   ]
  },
  {
   "cell_type": "code",
   "execution_count": 63,
   "metadata": {},
   "outputs": [
    {
     "data": {
      "text/plain": [
       "LinearRegression()"
      ]
     },
     "execution_count": 63,
     "metadata": {},
     "output_type": "execute_result"
    }
   ],
   "source": [
    "lin_reg = LinearRegression()\n",
    "lin_reg.fit(train_set, train_y)"
   ]
  },
  {
   "cell_type": "code",
   "execution_count": 64,
   "metadata": {},
   "outputs": [],
   "source": [
    "#some of models will predict neg values so this function will remove that values\n",
    "from sklearn.metrics import mean_squared_log_error,r2_score,mean_squared_error\n",
    "def remove_neg(y_test,y_pred):\n",
    "    ind=[index for index in range(len(y_pred)) if(y_pred[index]>0)]\n",
    "    y_pred=y_pred[ind]\n",
    "    y_test=y_test[ind]\n",
    "    y_pred[y_pred<0]\n",
    "    return (y_test,y_pred)\n",
    "\n",
    "def result(y_test,y_pred):\n",
    "    r=[]\n",
    "    r.append(mean_squared_log_error(y_test, y_pred))\n",
    "    r.append(np.sqrt(r[0]))\n",
    "    r.append(r2_score(y_test,y_pred))\n",
    "    r.append(round(r2_score(y_test,y_pred)*100,4))\n",
    "    return (r)\n",
    "accu=pd.DataFrame(index=['MSLE', 'Root MSLE', 'R2 Score','Accuracy(%)'])"
   ]
  },
  {
   "cell_type": "code",
   "execution_count": 65,
   "metadata": {
    "scrolled": true
   },
   "outputs": [
    {
     "name": "stdout",
     "output_type": "stream",
     "text": [
      "Coefficients: \n",
      " [  -134.13309077   5169.92808464  10277.64482028 ...    428.17098423\n",
      "   -147.30739557 -19198.42651048]\n",
      "MSLE : 0.10661429343747887\n",
      "Root MSLE : 0.3265184427218145\n",
      "R2 Score : 0.8897246505154432 or 88.9725%\n"
     ]
    }
   ],
   "source": [
    "y_pred=lin_reg.predict(test_set)\n",
    "\n",
    "y_test_1,y_pred_1=remove_neg(test_y.to_numpy(),y_pred)\n",
    "r1_lr=result(y_test_1,y_pred_1)\n",
    "print('Coefficients: \\n', lin_reg.coef_)\n",
    "print(\"MSLE : {}\".format(r1_lr[0]))\n",
    "print(\"Root MSLE : {}\".format(r1_lr[1]))\n",
    "print(\"R2 Score : {} or {}%\".format(r1_lr[2],r1_lr[3]))\n",
    "accu['Linear Regression']=r1_lr"
   ]
  }
 ],
 "metadata": {
  "kernelspec": {
   "display_name": "Python 3",
   "language": "python",
   "name": "python3"
  },
  "language_info": {
   "codemirror_mode": {
    "name": "ipython",
    "version": 3
   },
   "file_extension": ".py",
   "mimetype": "text/x-python",
   "name": "python",
   "nbconvert_exporter": "python",
   "pygments_lexer": "ipython3",
   "version": "3.8.5"
  }
 },
 "nbformat": 4,
 "nbformat_minor": 4
}
